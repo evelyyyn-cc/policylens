{
 "cells": [
  {
   "cell_type": "markdown",
   "metadata": {},
   "source": [
    "## Video Referrence\n",
    "- [Complete Tutorial on Vector Database - Learn ChromaDB, Pinecone & Weaviate | Generative AI](https://www.youtube.com/watch?v=8KrTO9bS91s)\n",
    "- https://github.com/entbappy/Complete-Generative-AI-Course-on-YouTube/blob/main/Vector%20Database/2.Pinecone_demo.ipynb\n"
   ]
  },
  {
   "cell_type": "markdown",
   "metadata": {},
   "source": [
    "## Import All the Required Libraries"
   ]
  },
  {
   "cell_type": "code",
   "execution_count": 12,
   "metadata": {},
   "outputs": [],
   "source": [
    "from langchain.document_loaders import PyPDFDirectoryLoader, PyPDFLoader\n",
    "from langchain.text_splitter import RecursiveCharacterTextSplitter\n",
    "from langchain_openai import OpenAIEmbeddings\n",
    "from langchain_openai import ChatOpenAI\n",
    "from langchain.vectorstores import Pinecone\n",
    "from langchain.chains import RetrievalQA\n",
    "from langchain.prompts import PromptTemplate\n",
    "import os"
   ]
  },
  {
   "cell_type": "code",
   "execution_count": null,
   "metadata": {},
   "outputs": [
    {
     "data": {
      "text/plain": [
       "True"
      ]
     },
     "execution_count": 2,
     "metadata": {},
     "output_type": "execute_result"
    }
   ],
   "source": [
    "# Load API keys from .env file\n",
    "# from dotenv import load_dotenv, find_dotenv\n",
    "# load_dotenv(find_dotenv())"
   ]
  },
  {
   "cell_type": "markdown",
   "metadata": {},
   "source": [
    "## Extract the Text from the PDF's"
   ]
  },
  {
   "cell_type": "code",
   "execution_count": 13,
   "metadata": {},
   "outputs": [],
   "source": [
    "# loader = PyPDFDirectoryLoader(\"pdf_data\")\n",
    "loader = PyPDFLoader(\"Website_Report_V1.pdf\")\n",
    "data = loader.load()"
   ]
  },
  {
   "cell_type": "code",
   "execution_count": 14,
   "metadata": {},
   "outputs": [
    {
     "data": {
      "text/plain": [
       "[Document(metadata={'producer': 'Skia/PDF m137 Google Docs Renderer', 'creator': 'PyPDF', 'creationdate': '', 'title': 'Website Report V1', 'source': 'Website_Report_V1.pdf', 'total_pages': 20, 'page': 0, 'page_label': '1'}, page_content='Landing  Page  Analysis  \\n1.  Header  &  Navigation  \\n●  Logo  &  Branding :  The  “MY  PolicyLens”  logo  in  the  top-left  immediately  identifies  the  \\nplatform.\\n \\nIt\\n \\nuses\\n \\nbold,\\n \\nuppercase\\n \\nlettering\\n \\nto\\n \\nconvey\\n \\nauthority\\n \\nand\\n \\ntrust.\\n \\n ●  Primary  Navigation :  Links  to  Home ,  Policy ,  and  an  AI  Chatbot  tool  sit  prominently  \\nacross\\n \\nthe\\n \\ntop,\\n \\nmaking\\n \\nessential\\n \\nfeatures\\n \\nreachable\\n \\nin\\n \\none\\n \\nclick.\\n \\n ●  Language  Selector :  A  toggle  between  Bahasa  Malaysia  and  English  allows  the  site  \\nto\\n \\nserve\\n \\na\\n \\nbilingual\\n \\naudience,\\n \\nenhancing\\n \\naccessibility\\n \\nand\\n \\ninclusivity.\\n \\nInsight :  The  clear,  uncluttered  header  helps  users  orient  themselves  quickly  and  supports  \\nmultilingual\\n \\nengagement.\\n \\n2.  Hero  Section  \\n●  Headline :  “Making  Policies  Transparent  &  Understandable  for  Everyone”  succinctly  \\nstates\\n \\nthe\\n \\nplatform’s\\n \\nmission\\n \\nin\\n \\nplain\\n \\nlanguage.\\n \\n ●  Subheading :  “Navigating  policies  made  easy  —  breaking  down  complex  policies  into  \\nstraightforward,\\n \\naccessible\\n \\ninformation\\n \\nfor\\n \\neveryone.”\\n \\nreinforces\\n \\nthe\\n \\nvalue\\n \\nproposition.\\n \\n ●  Call  to  Action  (CTA) :  A  prominent  Explore  Policies  button  invites  immediate  \\nengagement,\\n \\nwhile\\n \\nthe\\n \\n“Scroll\\n \\nDown”\\n \\nprompt\\n \\nencourages\\n \\ndeeper\\n \\nexploration.\\n \\n \\nInsight :  By  leading  with  a  simple  statement  of  purpose  and  an  immediate  CTA,  the  site  \\nreduces\\n \\nfriction\\n \\nfor\\n \\nfirst-time\\n \\nvisitors\\n \\nand\\n \\ndrives\\n \\nthem\\n \\ntoward\\n \\nkey\\n \\ncontent\\n \\n(MyPolicyLens,\\n \\n2025).\\n \\n3.  Featured  Policy  Spotlight  \\nFeatured  Policy  Spotlight  \\n●  Section  Title  \\n \\n“Diesel\\n \\nSubsidy\\n \\nReform:\\n \\nWhat’s\\n \\nGoing\\n \\nto\\n \\nCost\\n \\nYou?”\\n \\nframes\\n \\na\\n \\ntimely,\\n \\nhigh\\n‑\\nimpact\\n \\npolicy\\n \\nchange\\n \\nin\\n \\nterms\\n \\nof\\n \\nits\\n \\ndirect\\n \\neffect\\n \\non\\n \\ncitizens’\\n \\nwallets.\\n \\n ●  Description  \\n \\nThe\\n \\nbrief,\\n \\nconversational\\n \\nlines—“Subsidies\\n \\nare\\n \\nchanging.\\n \\nPrices\\n \\nare\\n \\nrising.”—translate\\n \\ntechnical\\n \\npolicy\\n \\nshifts\\n \\ninto\\n \\neveryday\\n \\nconcerns,\\n \\nmaking\\n \\nthe\\n \\nissue\\n \\nrelatable\\n \\nto\\n \\nnon\\n‑\\nexpert\\n \\nusers.'),\n",
       " Document(metadata={'producer': 'Skia/PDF m137 Google Docs Renderer', 'creator': 'PyPDF', 'creationdate': '', 'title': 'Website Report V1', 'source': 'Website_Report_V1.pdf', 'total_pages': 20, 'page': 1, 'page_label': '2'}, page_content='●  Key  Metrics  &  Reasoning  \\n ○  32.8\\u2009M  Malaysians  Potentially  Impacted  \\n ○  Transparency  Score:  50/100  \\n \\n●  A  transparency  score  of  50  places  Malaysia  just  above  the  global  average  of  43  and  \\nabove\\n \\nthe\\n \\nAsia\\u2009Pacific\\n \\naverage\\n \\nof\\n \\n44,\\n \\nyet\\n \\nwell\\n \\nbelow\\n \\nthe\\n \\nleaders\\n \\nscoring\\n \\nin\\n \\nthe\\n \\n80s–90s.\\n \\nThis\\n \\nmidpoint\\n \\nranking\\n \\n(57th\\n \\nout\\n \\nof\\n \\n180\\n \\ncountries)\\n \\nsignals\\n \\nthat\\n \\nwhile\\n \\nMalaysia\\n \\nhas\\n \\nmade\\n \\nstrides\\n \\nin\\n \\ncombating\\n \\ncorruption,\\n \\nsignificant\\n \\ngaps\\n \\nin\\n \\nopenness\\n \\nand\\n \\naccountability\\n \\nremain.\\n \\nIn\\n \\npractice,\\n \\na\\n \\nscore\\n \\nof\\n \\n50\\n \\nmeans\\n \\nnearly\\n \\nhalf\\n \\nof\\n \\npublic\\n‑\\nsector\\n \\nprocesses\\n \\nare\\n \\nstill\\n \\nperceived\\n \\nas\\n \\nopaque,\\n \\nunderlining\\n \\nthe\\n \\nneed\\n \\nfor\\n \\nindependent\\n \\ntools\\n \\nthat\\n \\ndemystify\\n \\npolicy\\n \\ndetails,\\n \\nexactly\\n \\nthe\\n \\ngap\\n \\nMyPolicyLens\\n \\naims\\n \\nto\\n \\nfill.\\n ●  Displaying  “32.8M”  underscores  the  scale  of  impact  (nearly  the  entire  adult  \\npopulation)\\n \\nand\\n \\nmaking\\n \\nthe\\n \\nissue\\n \\nurgent.\\n ●  Secondary  CTA  \\nThe\\n \\nExplore\\n \\nthe\\n \\nPolicy\\n \\nbutton\\n \\ninvites\\n \\nusers\\n \\nto\\n \\ndelve\\n \\ninto\\n \\nthe\\n \\nfull\\n \\nanalysis,\\n \\ntransforming\\n \\npassive\\n \\nawareness\\n \\ninto\\n \\nactive\\n \\nlearning.\\n \\nInsight :  Spotlighting  one  policy  with  quantitative  data  immediately  demonstrates  the  \\nplatform’s\\n \\nanalytical\\n \\ndepth\\n \\nand\\n \\nrelevance\\n \\nto\\n \\neveryday\\n \\nlife.\\n \\n4.  “What  We  Do”  Overview  \\n●  Intro  Text :  A  concise  paragraph  explains  the  platform’s  core  functions—simplifying  \\npolicies,\\n \\nbreaking\\n \\ndown\\n \\ndata,\\n \\nand\\n \\nvisualizing\\n \\nimpacts.\\n \\n ●  Feature  List :  Three  offerings  are  presented  as  bite-sized  items  for  easy  scanning.  \\n ●  Multimedia  Element :  A  video  thumbnail  suggests  interactive  content,  catering  to  \\nusers\\n \\nwho\\n \\nprefer\\n \\naudiovisual\\n \\nexplanations.\\n \\nInsight :  This  section  balances  depth  (text  explanation)  and  breadth  (multiple  features),  \\nguiding\\n \\ndifferent\\n \\nlearning\\n \\nstyles\\n \\ntoward\\n \\nrelevant\\n \\ntools.\\n \\n5.  “Why  It  Matters”  Value  Proposition  \\n●  Problem  Statement :  Highlights  the  stakes—policies  influence  prices,  jobs,  and  \\ntrust—but\\n \\nare\\n \\noften\\n \\nobscured\\n \\nby\\n \\njargon.\\n \\n ●  Solution  Statement :  Emphasizes  the  platform’s  role  in  cutting  through  noise  to  \\nempower\\n \\ninformed\\n \\ndecision-making.\\n \\n \\nInsight :  Framing  the  problem  in  human  terms  (“citizens  lose  trust  and  power”)  engages  \\nusers’\\n \\nemotions\\n \\nand\\n \\nunderscores\\n \\nthe\\n \\ncivic\\n \\nimportance\\n \\nof\\n \\ntransparency'),\n",
       " Document(metadata={'producer': 'Skia/PDF m137 Google Docs Renderer', 'creator': 'PyPDF', 'creationdate': '', 'title': 'Website Report V1', 'source': 'Website_Report_V1.pdf', 'total_pages': 20, 'page': 2, 'page_label': '3'}, page_content='6.  “Who  We  Are”  &  Footer  \\n●  Team  Origin :  Positions  the  creators  as  Monash  University  IT  students,  lending  \\nacademic\\n \\ncredibility.\\n \\n ●  Mission  Alignment :  Their  shared  frustration  with  opaque  policy  language  explains  \\nthe\\n \\nproject’s\\n \\ngenesis\\n \\nand\\n \\nunderscores\\n \\nauthenticity.\\n \\n ●  Quick  Links :  Links  to  About  Us  and  FAQ  in  the  footer  ensure  users  can  access  \\ndeeper\\n \\nbackground\\n \\ninformation\\n \\nas\\n \\nneeded.\\n \\n \\nInsight :  Conveying  the  team’s  background  and  passion  builds  trust,  while  the  footer’s  quick  \\nlinks\\n \\nfacilitate\\n \\nfurther\\n \\nexploration\\n \\nwithout\\n \\noverwhelming\\n \\nthe\\n \\nmain\\n \\ncontent.\\n \\nOverall  Observations  \\n●  Clarity  &  Accessibility :  Plain-language  headlines  and  bilingual  support  lower  \\nbarriers\\n \\nto\\n \\nengagement.\\n \\n ●  Visual  Hierarchy :  Bold  section  headings,  concise  paragraphs,  and  CTAs  guide  \\nusers\\n \\nthrough\\n \\na\\n \\nlogical\\n \\nflow\\n \\nfrom\\n \\noverview\\n \\nto\\n \\naction.\\n \\n ●  Engagement  Strategies :  Mix  of  text,  data,  and  multimedia  caters  to  diverse  \\npreferences\\n \\nand\\n \\nencourages\\n \\nexploration.\\n \\n ●  Trust  Building :  Academic  affiliation  and  transparent  data  presentation  reinforce  \\ncredibility.\\n \\n \\nPolicies  Page  Analysis  \\nThe  “Policies”  page  is  intended  to  showcase  featured  policy  analyses,  allowing  users  to  \\nnavigate\\n \\nfrom\\n \\nhigh-level\\n \\nsummaries\\n \\nto\\n \\ndetailed\\n \\nreports.\\n \\nThis\\n \\nanalysis\\n \\nevaluates\\n \\nhow\\n \\neffectively\\n \\nthe\\n \\npage\\n \\ncommunicates\\n \\npolicy\\n \\ninformation\\n \\nand\\n \\nguides\\n \\nuser\\n \\nengagement.\\n \\n \\nUpon  loading,  users  encounter  the  following  primary  elements:  \\n●  Consistent  Header  &  Navigation :  The  page  retains  the  site’s  logo,  main  menu  \\n(Home\\n \\n•\\n \\nPolicy\\n \\n•\\n \\nAI\\n \\nChatbot),\\n \\nand\\n \\nlanguage\\n \\ntoggle,\\n \\nensuring\\n \\ncontinuity\\n \\nfrom\\n \\nthe\\n landing  page.   ●  Breadcrumb  Trail :  A  “Home  >  Policies”  trail  provides  clear  context  of  the  user’s  location  within  the  site  hierarchy.  ●  Page  Title  &  Section  Header :  A  prominent  “Policies”  title  followed  by  “Featured  Policies”  signals  that  this  is  a  curated  selection  of  policy  analyses.'),\n",
       " Document(metadata={'producer': 'Skia/PDF m137 Google Docs Renderer', 'creator': 'PyPDF', 'creationdate': '', 'title': 'Website Report V1', 'source': 'Website_Report_V1.pdf', 'total_pages': 20, 'page': 3, 'page_label': '4'}, page_content='Policy  Card  Layout  \\n●  Each  featured  policy  is  encapsulated  in  a  “card”  comprising:  \\n ○  Title  (e.g.,  “Diesel  Subsidy  Malaysia”)  \\n ○  Date  (June  2024)  \\n ○  Summary  Snippet  (two  to  three  sentences  describing  policy  intent  and  \\ncontext)\\n \\n ○  Read  More  CTA  ●  Repetition :  The  example  page  repeats  the  diesel-subsidy  card  four  times.  As  a   \\nplaceholder\\n \\ncontent,\\n \\nthis\\n \\ndemonstrates\\n \\nthe\\n \\ntemplate’s\\n \\ncapability\\n \\nto\\n \\nlist\\n \\nmultiple\\n \\npolicies\\n \\nin\\n \\na\\n \\nuniform\\n \\nlayout.\\n \\nCurrency  &  Relevance  \\n●  Date  Inclusion :  By  stating  “June  2024,”  the  page  anchors  the  policy  in  time,  enabling  \\nusers\\n \\nto\\n \\nassess\\n \\nrecency,\\n \\ncrucial\\n \\nfor\\n \\ntopics\\n \\nthat\\n \\nmay\\n \\nchange\\n \\nquickly\\n \\n(e.g.,\\n \\nsubsidies,\\n regulations).  ●  Summary :  The  snippet  succinctly  explains  the  policy’s  purpose  (reducing  \\ngovernment\\n \\nexpenditure,\\n \\ntargeting\\n \\nneed),\\n \\ngiving\\n \\nnon-expert\\n \\nusers\\n \\nimmediate\\n \\nunderstanding.\\n \\n \\nDiesel  Dilemma  Page  Analysis   \\nEscalation  of  Subsidy  Expenditure  \\nBetween\\n \\n2019\\n \\nand\\n \\n2023,\\n \\nMalaysia’s\\n \\ndiesel-subsidy\\n \\noutlay\\n \\nsoared\\n \\nfrom\\n \\nRM\\n \\n1.4\\n \\nbillion\\n \\nto\\n \\nRM\\n \\n14.3\\n \\nbillion—a\\n \\nmore\\n \\nthan\\n \\nten-fold\\n \\nincrease\\n \\n(Ministry\\n \\nof\\n \\nFinance\\n \\nMalaysia,\\n \\n2024).\\n \\nThis\\n \\n920\\n \\npercent\\n \\nrise\\n \\nplaced\\n \\nunsustainable\\n \\npressure\\n \\non\\n \\npublic\\n \\nfinances,\\n \\nconsuming\\n \\nan\\n \\never-larger\\n \\nshare\\n \\nof\\n \\nthe\\n \\nfederal\\n \\nbudget.\\n \\nAccording\\n \\nto\\n \\nInternational\\n \\nMonetary\\n \\nFund\\n \\nguidelines,\\n \\nuntargeted\\n \\nfuel\\n \\nsubsidies\\n \\ntend\\n \\nto\\n \\ncrowd\\n \\nout\\n \\nessential\\n \\nsocial\\n \\nand\\n \\ncapital\\n \\nspending,\\n \\nundermining\\n \\nlong-term\\n \\ngrowth\\n \\nprospects\\n \\n(IMF,\\n \\n2019).\\n \\nBy\\n \\nhighlighting\\n \\nthis\\n \\ndramatic\\n \\nfiscal\\n \\nescalation,\\n \\nthe\\n \\npolicy\\n \\npage\\n \\nrightly\\n \\nframes\\n \\nthe\\n \\nreform\\n \\nas\\n \\na\\n \\nnecessary\\n \\ncorrective\\n \\nto\\n \\nrestore\\n \\nbudgetary\\n \\nbalance\\n \\nand\\n \\nfiscal\\n \\nspace.\\n \\nDisparity  Between  Fuel  Consumption  and  Vehicle  Growth  \\nThe\\n \\ndual\\n \\ncharts\\n \\ncontrasting\\n \\ncumulative\\n \\ndiesel\\n \\nconsumption\\n \\nagainst\\n \\nvehicle-registration\\n \\ngrowth\\n \\n(2021–2023)\\n \\nreveal\\n \\na\\n \\nwidening\\n \\ngap:\\n \\nwhile\\n \\nthe\\n \\nregistered\\n \\ndiesel-vehicle\\n \\nfleet\\n \\ngrew\\n \\nmodestly,\\n \\ntotal\\n \\nfuel\\n \\nconsumption\\n \\nclimbed\\n \\nsteeply.\\n \\nThis\\n \\nindicates\\n \\nthat\\n \\nexisting\\n \\nvehicles\\n \\nwere\\n \\ndriven\\n \\nmore\\n \\nintensively—either\\n \\ncovering\\n \\nlonger\\n \\ndistances\\n \\nor\\n \\ncarrying\\n \\nheavier\\n \\nloads—rather\\n \\nthan\\n \\nincreased\\n \\nfleet\\n \\nsize\\n \\nalone\\n \\ndriving\\n \\ndemand\\n \\n(Department\\n \\nof\\n \\nStatistics\\n \\nMalaysia,\\n \\n2023).\\n \\nFrom\\n \\na\\n \\npolicy\\n \\nperspective,\\n \\nthis\\n \\nsuggests\\n \\nthat\\n \\nincentives\\n \\nshould\\n \\nfocus\\n \\nnot\\n \\nonly\\n \\non\\n \\nfleet\\n \\nreduction\\n \\nbut\\n \\nalso\\n \\non\\n \\npromoting\\n \\nfuel-efficiency\\n \\nmeasures,\\n \\nalternative\\n \\ntransport\\n \\nmodes,\\n \\nor\\n \\noptimized\\n \\nlogistics\\n \\nto\\n \\naddress\\n \\noverutilization.'),\n",
       " Document(metadata={'producer': 'Skia/PDF m137 Google Docs Renderer', 'creator': 'PyPDF', 'creationdate': '', 'title': 'Website Report V1', 'source': 'Website_Report_V1.pdf', 'total_pages': 20, 'page': 4, 'page_label': '5'}, page_content='Cross-Border  Price  Differential  &  Arbitrage  Risk  \\nIn\\n \\nJune\\n \\n2024,\\n \\nsubsidized\\n \\ndiesel\\n \\nin\\n \\nMalaysia\\n \\ncost\\n \\nRM\\n \\n2.15/L,\\n \\nmarkedly\\n \\nbelow\\n \\nSingapore’s\\n \\nRM\\n \\n8.79,\\n \\nThailand’s\\n \\nRM\\n \\n4.24,\\n \\nand\\n \\nIndonesia’s\\n \\nRM\\n \\n4.43\\n \\n(IEA,\\n \\n2021).\\n \\nSuch\\n \\nwide\\n \\nprice\\n \\ndifferentials\\n \\ncreate\\n \\nstrong\\n \\nfinancial\\n \\nincentives\\n \\nfor\\n \\nsmuggling\\n \\nand\\n \\n“fuel\\n \\ntourism”\\n \\nacross\\n \\nborders,\\n \\nleading\\n \\nto\\n \\nsignificant\\n \\nrevenue\\n \\nleakage.\\n \\nBy\\n \\nraising\\n \\nthe\\n \\ndomestic\\n \\nprice\\n \\nto\\n \\nRM\\n \\n3.35/L—closer\\n \\nto\\n \\nregional\\n \\nbenchmarks—the\\n \\ngovernment\\n \\naimed\\n \\nto\\n \\nreduce\\n \\nthese\\n \\narbitrage\\n \\nopportunities\\n \\nwhile\\n \\nstill\\n \\nshielding\\n \\ntargeted\\n \\nusers\\n \\nfrom\\n \\nfull\\n \\nmarket\\n \\nrates.\\n \\nThis\\n \\napproach\\n \\naligns\\n \\nwith\\n \\nbest\\n \\npractices\\n \\nto\\n \\nmitigate\\n \\ncross-border\\n \\nleakage\\n \\nwithout\\n \\nabandoning\\n \\nsubsidy\\n \\nrelief\\n \\naltogether.\\n \\nThe  Targeted  Approach  \\nThe  “Targeted  Approach”  subsection  of  “The  Diesel  Dilemma”  lays  out  the  design  and  \\nmechanics\\n \\nof\\n \\nMalaysia’s\\n \\nreformed\\n \\ndiesel\\n \\nsubsidy\\n \\nscheme.\\n \\nRather\\n \\nthan\\n \\nblanket\\n \\nprice\\n \\nrelief,\\n \\nthe\\n \\npolicy\\n \\nnarrowly\\n \\ndirects\\n \\nsupport\\n \\nto\\n \\ndefined\\n \\nbeneficiaries,\\n \\nthereby\\n \\nmaximizing\\n \\nfiscal\\n \\nefficiency\\n \\nand\\n \\nsocial\\n \\nimpact.\\n \\n \\nBeneficiary  Categories  \\nThe  reform  designates  five  primary  beneficiary  groups:  \\n1.  Smallholder  Farmers  –  Individuals  cultivating  agricultural  plots  below  a  specified  \\nacreage.\\n \\n 2.  Livestock  Breeders  –  Operators  of  poultry,  cattle,  or  aquaculture  enterprises  \\nmeeting\\n \\nscale\\n \\nthresholds.\\n \\n 3.  Fisherfolk  –  Licensed  small-scale  fishers  using  diesel ‐ powered  vessels.  \\n 4.  Commercial  Hauliers  –  Truckers  and  logistics  operators  whose  livelihoods  depend  \\non\\n \\ndiesel\\n \\nfor\\n \\nfreight\\n \\nmovement.\\n \\n 5.  Private-Vehicle  Owners  –  Owners  of  passenger  vehicles  up  to  ten  years  old,  \\nsubject\\n \\nto\\n \\nincome\\n \\nceiling\\n \\ncriteria.\\n \\n \\nBy  focusing  on  these  sectors,  the  policy  targets  those  whose  economic  activities  rely  \\ncritically\\n \\non\\n \\ndiesel,\\n \\nthereby\\n \\npreserving\\n \\nrural\\n \\nincomes,\\n \\nfood-supply\\n \\nchains,\\n \\nand\\n \\nessential\\n \\nfreight\\n \\nservices.\\n \\nWorld\\n \\nBank\\n \\nanalyses\\n \\nindicate\\n \\nthat\\n \\ntargeting\\n \\ntransport\\n \\nand\\n \\nagricultural\\n \\ninputs\\n \\noften\\n \\nyields\\n \\nhigher\\n \\npoverty-reduction\\n \\nimpacts\\n \\nthan\\n \\nindiscriminate\\n \\nsubsidies,\\n \\nsince\\n \\nthese\\n \\ngroups\\n \\nface\\n \\ninelastic\\n \\ndemand\\n \\nfor\\n \\nfuel\\n \\n(World\\n \\nBank,\\n \\n2020).'),\n",
       " Document(metadata={'producer': 'Skia/PDF m137 Google Docs Renderer', 'creator': 'PyPDF', 'creationdate': '', 'title': 'Website Report V1', 'source': 'Website_Report_V1.pdf', 'total_pages': 20, 'page': 5, 'page_label': '6'}, page_content='Eligibility  Criteria  \\nTo  qualify,  applicants  must  meet  all  of  the  following  conditions  (Ministry  of  Finance  Malaysia,  \\n2024):\\n \\n●  Malaysian  Citizenship :  Ensures  subsidy  funds  support  residents  rather  than  \\nforeign-registered\\n \\nentities.\\n \\n ●  Income  Threshold :  Household  income  below  RM  5,000  per  month  (small  \\nbusinesses\\n \\nacross\\n \\nfarming,\\n \\nfishing,\\n \\nand\\n \\nhauling\\n \\npermitted\\n \\nup\\n \\nto\\n \\nRM\\n \\n10,000).\\n \\nThis\\n \\nprevents\\n \\nhigh-income\\n \\nusers\\n \\nfrom\\n \\ncapturing\\n \\nbenefits.\\n \\n ●  Vehicle  Registration  Age :  Private  vehicles  must  be  no  older  than  ten  years,  \\npromoting\\n \\nfleet\\n \\nrenewal\\n \\nand\\n \\nimproved\\n \\nfuel\\n \\nefficiency\\n \\nover\\n \\ntime.\\n \\n ●  Operational  Licensing :  Commercial  operators  (hauliers,  fishers)  must  hold  valid  \\nindustry\\n \\nlicenses,\\n \\nverifying\\n \\ngenuine\\n \\nbusiness\\n \\nactivity.\\n \\n \\nThese  multi-dimensional  criteria  combine  socio-economic  means  testing  with  sector-specific  \\nlicensing\\n \\nto\\n \\nminimize\\n \\n“leakage”\\n \\nto\\n \\nineligible\\n \\nparties,\\n \\na\\n \\nkey\\n \\npitfall\\n \\nin\\n \\nmany\\n \\nsubsidy\\n \\nprograms\\n \\n(International\\n \\nMonetary\\n \\nFund,\\n \\n2019).\\n \\nApplication  &  Verification  Process  Applicants  submit  requests  via  the  government’s  MADANI  e-assistance  portal  budimadani.gov.my:  \\n1.  Online  Registration :  Users  create  an  account  and  complete  a  standardized  form  \\nindicating\\n \\nbeneficiary\\n \\ncategory,\\n \\nincome\\n \\ndetails,\\n \\nand\\n \\nvehicle\\n \\nor\\n \\nbusiness\\n \\nlicense\\n \\nnumbers.\\n \\n \\n 2.  Document  Upload :  Required  proofs  include  MyKad  (national  ID),  income  statements  \\n(e.g.,\\n \\npayslips\\n \\nor\\n \\ntax\\n \\nreturns),\\n \\nand\\n \\nvehicle\\n \\nor\\n \\nlicense\\n \\ndocuments.\\n \\n 3.  Automated  Cross-Checking :  The  system  interfaces  with  Lembaga  Hasil  Dalam  \\nNegeri\\n \\nMalaysia\\n \\n(LHDNM)\\n \\ntax\\n \\nrecords\\n \\nand\\n \\nthe\\n \\nRoad\\n \\nTransport\\n \\nDepartment\\n \\ndatabase\\n \\nto\\n \\nvalidate\\n \\nself-declared\\n \\ninformation.\\n \\n 4.  Approval  Notification :  Successful  applicants  receive  SMS  and  email  alerts;  \\nunsuccessful\\n \\nones\\n \\nreceive\\n \\nguidance\\n \\non\\n \\nmissing\\n \\nor\\n \\nmismatched\\n \\ndocumentation.\\n \\n \\nThis  digital  workflow  leverages  existing  government  databases  to  expedite  approval  and  \\nreduces\\n \\nmanual\\n \\nintervention—critical\\n \\nboth\\n \\nfor\\n \\nadministrative\\n \\nefficiency\\n \\nand\\n \\nfor\\n \\nshielding\\n \\nbeneficiaries\\n \\nfrom\\n \\nbureaucratic\\n \\ndelays\\n \\n(Open\\n \\nGovernment\\n \\nPartnership,\\n \\n2020).'),\n",
       " Document(metadata={'producer': 'Skia/PDF m137 Google Docs Renderer', 'creator': 'PyPDF', 'creationdate': '', 'title': 'Website Report V1', 'source': 'Website_Report_V1.pdf', 'total_pages': 20, 'page': 6, 'page_label': '7'}, page_content='Disbursement  Mechanism  \\nApproved  beneficiaries  receive  a  RM  200  monthly  credit  loaded  directly  onto  a  virtual  fuel  \\ncard\\n \\nor\\n \\nvia\\n \\ne-wallet\\n \\ntransfers,\\n \\nlimited\\n \\nto\\n \\ndiesel\\n \\npurchases\\n \\nat\\n \\nparticipating\\n \\npetrol\\n \\nstations.\\n \\nThis\\n \\nconditional\\n \\ncash-transfer\\n \\nmodel:\\n \\n●  Controls  Use :  Restricts  funds  to  diesel,  preventing  diversion  to  non-fuel  \\nexpenditures.\\n \\n ●  Facilitates  Monitoring :  Petroleum  companies  report  monthly  redemption  data  back  \\nto\\n \\nthe\\n \\nFinance\\n \\nMinistry,\\n \\nenabling\\n \\nnear\\n \\nreal-time\\n \\ntracking\\n \\nof\\n \\nsubsidy\\n \\nuptake\\n \\nand\\n \\nexpenditure.\\n \\n ●  Promotes  Accountability :  Public  dashboards  display  aggregate  disbursement  \\nfigures\\n \\nand\\n \\nremaining\\n \\nsubsidy\\n \\nbudgets,\\n \\nreinforcing\\n \\ntransparency\\n \\nand\\n \\nbuilding\\n \\npublic\\n \\ntrust\\n \\n(Ministry\\n \\nof\\n \\nFinance\\n \\nMalaysia,\\n \\n2024).\\n \\n \\nExpected  Impacts  &  Risks  \\nBy  concentrating  support  on  heavy-use  and  low-income  groups,  the  scheme  is  projected  to:  \\n●  Reduce  Overall  Subsidy  Outlay  by  up  to  70%,  freeing  RM  4  billion  annually  for  \\nsocial\\n \\nservices\\n \\nand\\n \\ninfrastructure\\n \\n(MOF,\\n \\n2024).\\n \\n ●  Improve  Equity  by  directing  more  relief  to  those  least  able  to  absorb  price  increases.  \\n ●  Encourage  Efficiency  as  ineligible  users  face  full  market  prices,  incentivizing  \\nfuel-saving\\n \\npractices\\n \\nor\\n \\nalternative\\n \\ntransport\\n \\nmodes.\\n \\n \\nHowever,  potential  risks  include:  \\n1.  Digital  Divide :  Rural  or  elderly  beneficiaries  may  struggle  with  online  applications,  \\nnecessitating\\n \\noutreach\\n \\nvia\\n \\ncommunity\\n \\ncenters\\n \\nor\\n \\nmobile\\n \\nregistration\\n \\nunits.\\n \\n 2.  Data  Inaccuracy :  Reliance  on  inter-agency  databases  requires  robust  data-quality  \\ncontrols\\n \\nto\\n \\navoid\\n \\nwrongful\\n \\ndenials\\n \\nor\\n \\napprovals.\\n \\n 3.  Compliance  Costs :  Participating  petrol  stations  must  integrate  virtual ‐ card  readers  \\nand\\n \\nreporting\\n \\nsystems,\\n \\nwhich\\n \\nmay\\n \\nimpose\\n \\nupfront\\n \\ninvestments.\\n \\n \\nMitigating  these  risks  will  be  essential  for  the  policy  to  achieve  its  intended  social  and  fiscal  \\noutcomes\\n \\n(IMF,\\n \\n2019).\\n \\nUptake  &  Implementation  Bottlenecks  \\nDespite\\n \\nan\\n \\nestimated\\n \\n300,000\\n \\neligible\\n \\nindividuals,\\n \\nonly\\n \\n100,000\\n \\napplications\\n \\nhad\\n \\nbeen\\n \\napproved\\n \\nby\\n \\nmid-implementation—reflecting\\n \\njust\\n \\n33\\n \\npercent\\n \\nuptake.\\n \\nThis\\n \\ngap\\n \\nmay\\n \\nstem\\n \\nfrom'),\n",
       " Document(metadata={'producer': 'Skia/PDF m137 Google Docs Renderer', 'creator': 'PyPDF', 'creationdate': '', 'title': 'Website Report V1', 'source': 'Website_Report_V1.pdf', 'total_pages': 20, 'page': 7, 'page_label': '8'}, page_content='low  awareness,  digital-access  barriers,  or  complex  verification  procedures.  The  disparity  \\nunderscores\\n \\nthe\\n \\nimportance\\n \\nof\\n \\ncomplementary\\n \\noutreach\\n \\ncampaigns\\n \\nand\\n \\nstreamlined\\n \\nadministrative\\n \\nworkflows\\n \\nto\\n \\nmaximize\\n \\ncoverage—critical\\n \\nif\\n \\nthe\\n \\npolicy\\n \\nis\\n \\nto\\n \\nachieve\\n \\nits\\n \\nintended\\n \\nsocial-protection\\n \\ngoals\\n \\n(Open\\n \\nGovernment\\n \\nPartnership,\\n \\n2020).\\n \\nProjected  Fiscal  Savings  &  Reallocation  \\nThe\\n \\nshift\\n \\nto\\n \\ntargeted\\n \\nsubsidies\\n \\nis\\n \\nprojected\\n \\nto\\n \\nsave\\n \\nRM\\n \\n4\\n \\nbillion\\n \\nannually—resources\\n \\nthat\\n \\ncan\\n \\nbe\\n \\nredirected\\n \\ntoward\\n \\nhealthcare,\\n \\neducation,\\n \\nand\\n \\ninfrastructure\\n \\n(MOF,\\n \\n2024).\\n \\nWith\\n \\nMalaysia’s\\n \\n2023\\n \\nGDP\\n \\naround\\n \\nRM\\n \\n1.7\\n \\ntrillion,\\n \\nthese\\n \\nsavings\\n \\nrepresent\\n \\napproximately\\n \\n0.24\\n \\npercent\\n \\nof\\n \\nGDP—modest\\n \\nin\\n \\nisolation\\n \\nbut\\n \\nsignificant\\n \\nwhen\\n \\ncombined\\n \\nwith\\n \\nother\\n \\nbudgetary\\n \\nreforms.\\n \\nThis\\n \\nreallocation\\n \\naligns\\n \\nwith\\n \\nIMF\\n \\nadvice\\n \\nthat\\n \\nrationalized\\n \\nsubsidies\\n \\nshould\\n \\nbolster\\n \\nhuman-capital\\n \\nand\\n \\ngrowth-enhancing\\n \\ninvestments\\n \\n(IMF,\\n \\n2019).\\n \\nBudget  Reallocation:  Strategic  Priorities  without  Line-Item  Figures  \\nIn  transitioning  from  blanket  diesel  subsidies  to  a  targeted  assistance  model,  the  Malaysian  \\ngovernment\\n \\nliberated\\n \\nsignificant\\n \\nfiscal\\n \\nspace—formally\\n \\nprojected\\n \\nby\\n \\nthe\\n \\nFinance\\n \\nMinister\\n \\nto\\n \\nbe\\n \\nin\\n \\nthe\\n \\norder\\n \\nof\\n \\nbillions\\n \\nin\\n \\nringgit\\n \\nannually\\n \\n(Reuters,\\n \\n2024).\\n \\nRather\\n \\nthan\\n \\ndispersing\\n \\nthese\\n \\nsavings\\n \\nevenly\\n \\nacross\\n \\nevery\\n \\nministry,\\n \\npolicymakers\\n \\nhave\\n \\nsignaled\\n \\nan\\n \\nintent\\n \\nto\\n \\nchannel\\n \\nthem\\n \\ninto\\n \\na\\n \\nhandful\\n \\nof\\n \\nhigh-impact\\n \\nareas:\\n \\nhealthcare,\\n \\neducation,\\n \\ninfrastructure,\\n \\nand\\n \\nrenewable-energy\\n \\nincentives.\\n \\nThis\\n \\nstrategic\\n \\nprioritization\\n \\nreflects\\n \\ninternational\\n \\nbest\\n \\npractices\\n \\nin\\n \\nsubsidy\\n \\nreform,\\n \\nwhich\\n \\nemphasize\\n \\nreinvesting\\n \\nefficiency\\n \\ngains\\n \\ninto\\n \\nhuman-capital\\n \\ndevelopment\\n \\nand\\n \\ngrowth-enhancing\\n \\npublic\\n \\ngoods\\n \\n(IMF,\\n \\n2019;\\n \\nWorld\\n \\nBank,\\n \\n2020).\\n \\nThe\\n \\nsavings\\n \\nfrom\\n \\nthe\\n \\nfuel\\n \\nsubsidy\\n \\nrationalization\\n \\nare\\n \\nexpected\\n \\nto\\n \\nbe\\n \\nreallocated\\n \\nto\\n \\nother\\n \\naid\\n \\nprograms\\n \\nand\\n \\ninitiatives,\\n \\nsuch\\n \\nas\\n \\ncash\\n \\nassistance\\n \\nfor\\n \\nlow-income\\n \\ngroups,\\n \\nimproving\\n \\nthe\\n \\nwell-being\\n \\nof\\n \\nvulnerable\\n \\nMalaysians,\\n \\nand\\n \\nfinancing\\n \\nfree\\n \\nnutritious\\n \\nmeal\\n \\nprograms\\n \\nin\\n \\nschools.\\n \\nFirstly,  healthcare  enhancement  emerges  as  a  foremost  beneficiary  of  reallocated  funds.  \\nChronic\\n \\nnon-communicable\\n \\ndiseases\\n \\naccount\\n \\nfor\\n \\nthe\\n \\nmajority\\n \\nof\\n \\nMalaysia’s\\n \\nhealth\\n \\nburden,\\n \\nand\\n \\nadditional\\n \\nresources\\n \\nhere\\n \\ncan\\n \\nunderwrite\\n \\nupgrades\\n \\nto\\n \\nrural\\n \\nclinics,\\n \\nexpanded\\n \\npreventive-care\\n \\nprogrammes,\\n \\nand\\n \\nsubsidized\\n \\ntreatments\\n \\nfor\\n \\ndiabetes\\n \\nand\\n \\ncardiovascular\\n \\nconditions\\n \\n(World\\n \\nHealth\\n \\nOrganization,\\n \\n2023).\\n \\nInvesting\\n \\nin\\n \\nhealth\\n \\nnot\\n \\nonly\\n \\naddresses\\n \\nimmediate\\n \\nwelfare\\n \\nneeds\\n \\nbut\\n \\nalso\\n \\nyields\\n \\nlong-term\\n \\neconomic\\n \\ndividends\\n \\nby\\n \\nreducing\\n \\nproductivity\\n \\nlosses\\n \\nand\\n \\ncatastrophic\\n \\nout-of-pocket\\n \\nspending.\\n \\nSecondly,  educational  initiatives  rank  highly  in  the  government’s  reallocation  framework.  \\nEmpirical\\n \\nevidence\\n \\nconsistently\\n \\ndemonstrates\\n \\nthat\\n \\nfinancing\\n \\nfor\\n \\nearly-childhood\\n \\ndevelopment,\\n \\ndigital-learning\\n \\ninfrastructure,\\n \\nand\\n \\ntargeted\\n \\ntuition\\n \\nsupport\\n \\nproduces\\n \\noutsized\\n \\nreturns—both\\n \\nin\\n \\nterms\\n \\nof\\n \\nindividual\\n \\nearnings\\n \\nand\\n \\nnational\\n \\nGDP\\n \\ngrowth\\n \\n(Hanushek\\n \\n&\\n \\nWoessmann,\\n \\n2020).\\n \\nBy\\n \\ndirecting\\n \\nsubsidy\\n \\nsavings\\n \\ninto\\n \\nschools\\n \\nand\\n \\nvocational-training\\n \\ncentres,\\n \\npolicymakers\\n \\naim\\n \\nto\\n \\nnarrow\\n \\nopportunity\\n \\ngaps\\n \\nand\\n \\nenhance\\n \\nworkforce\\n \\nreadiness\\n \\nfor\\n \\nMalaysia’s\\n \\nevolving\\n \\ndigital\\n \\neconomy.\\n \\nThirdly,  transport  and  logistics  infrastructure  has  been  earmarked  for  enhanced  \\nmaintenance\\n \\nand\\n \\nexpansion,\\n \\nparticularly\\n \\nin\\n \\nless-developed\\n \\nregions\\n \\nsuch\\n \\nas\\n \\nEast\\n \\nMalaysia.\\n \\nWell-maintained\\n \\nroads,\\n \\nupgraded\\n \\nport\\n \\nfacilities,\\n \\nand\\n \\nimproved\\n \\nrural\\n \\nconnectivity\\n \\nreduce\\n \\ntransaction\\n \\ncosts\\n \\nfor\\n \\nagricultural\\n \\nand\\n \\nfisheries\\n \\nproducers,\\n \\nthereby\\n \\nboosting\\n \\nrural\\n \\nincomes\\n \\nand\\n \\nmarket\\n \\nintegration\\n \\n(Asian\\n \\nDevelopment\\n \\nBank,\\n \\n2021).\\n \\nThese\\n \\ninvestments\\n \\nalso\\n \\ndovetail\\n \\nwith\\n \\nbroader\\n \\nnational\\n \\ngoals\\n \\nof\\n \\nbalanced\\n \\nregional\\n \\ndevelopment\\n \\nand\\n \\nequitable\\n \\nservice\\n \\ndelivery.'),\n",
       " Document(metadata={'producer': 'Skia/PDF m137 Google Docs Renderer', 'creator': 'PyPDF', 'creationdate': '', 'title': 'Website Report V1', 'source': 'Website_Report_V1.pdf', 'total_pages': 20, 'page': 8, 'page_label': '9'}, page_content='Throughout  this  reallocation  process,  the  Ministry  of  Finance  has  underscored  transparency  \\nby\\n \\ncommitting\\n \\nto\\n \\nreport\\n \\nannually\\n \\non\\n \\nhow\\n \\nsubsidy-rationalization\\n \\nsavings\\n \\nare\\n \\ndeployed\\n \\nwithin\\n \\nthe\\n \\nFederal\\n \\nBudget\\n \\ndocuments\\n \\n(Ministry\\n \\nof\\n \\nFinance\\n \\nMalaysia,\\n \\n2023).\\n \\nBy\\n \\ntying\\n \\nspecific\\n \\npolicy\\n \\noutputs\\n \\nto\\n \\nmeasurable\\n \\noutcomes—such\\n \\nas\\n \\nclinic\\n \\nupgrades\\n \\ncompleted,\\n \\nstudents\\n \\nenrolled\\n \\nin\\n \\ndigital-learning\\n \\nprogrammes,\\n \\nkilometres\\n \\nof\\n \\nroad\\n \\nrefurbished,\\n \\nand\\n \\nmegawatts\\n \\nof\\n \\nrenewable\\n \\ncapacity\\n \\ninstalled—the\\n \\ngovernment\\n \\naims\\n \\nto\\n \\nuphold\\n \\naccountability\\n \\nand\\n \\nmaintain\\n \\npublic\\n \\ntrust\\n \\nin\\n \\nits\\n \\nreform\\n \\nagenda.\\n \\nRegional  Equity  in  Pricing  \\nMaintaining\\n \\na\\n \\nlower\\n \\nRM\\n \\n2.15/L\\n \\nrate\\n \\nin\\n \\nSabah,\\n \\nSarawak,\\n \\nand\\n \\nLabuan\\n \\nacknowledges\\n \\nthe\\n \\nhigher\\n \\ncost\\n \\nof\\n \\nliving\\n \\nand\\n \\nlogistical\\n \\nchallenges\\n \\nin\\n \\nthese\\n \\nregions\\n \\n(World\\n \\nBank,\\n \\n2020).\\n \\nSuch\\n \\ndifferentiated\\n \\npricing\\n \\npreserves\\n \\nequity\\n \\nacross\\n \\nthe\\n \\nfederation,\\n \\nensuring\\n \\nthat\\n \\nremote\\n \\nand\\n \\nless-developed\\n \\nareas\\n \\ncontinue\\n \\nto\\n \\nreceive\\n \\nrelief\\n \\neven\\n \\nas\\n \\npeninsular\\n \\nrates\\n \\nrise.\\n \\nThis\\n \\nnuance\\n \\nreflects\\n \\nsensitivity\\n \\nto\\n \\nsubnational\\n \\ndisparities—an\\n \\nessential\\n \\nfeature\\n \\nof\\n \\ninclusive\\n \\nnational\\n \\npolicy\\n \\ndesign.\\n \\nOutlook  &  Macroeconomic  Implications  \\nThe\\n \\nreform\\n \\nroadmap\\n \\nextends\\n \\nto\\n \\nRON95\\n \\npetrol\\n \\nin\\n \\nlate\\n \\n2024\\n \\nand\\n \\nfull\\n \\nsubsidy\\n \\nrationalization\\n \\nby\\n \\n2026,\\n \\ncoupled\\n \\nwith\\n \\nrenewable-energy\\n \\nincentives.\\n \\nGovernment\\n \\nprojections\\n \\nanticipate\\n \\nreducing\\n \\nthe\\n \\nfiscal\\n \\ndeficit\\n \\nfrom\\n \\n5.8\\n \\npercent\\n \\nto\\n \\n3.8\\n \\npercent\\n \\nof\\n \\nGDP\\n \\nover\\n \\nthis\\n \\nperiod\\n \\n(Bernama,\\n \\n2025).\\n \\nAchieving\\n \\nsuch\\n \\na\\n \\nreduction\\n \\nwould\\n \\ncreate\\n \\ndurable\\n \\nfiscal\\n \\nspace,\\n \\nlower\\n \\nborrowing\\n \\ncosts,\\n \\nand\\n \\nsignal\\n \\nto\\n \\ninvestors\\n \\na\\n \\ncommitment\\n \\nto\\n \\nprudent\\n \\neconomic\\n \\nmanagement.\\n \\nMoreover,\\n \\nthe\\n \\nenvironmental\\n \\npivot\\n \\ntoward\\n \\nrenewables\\n \\naligns\\n \\nwith\\n \\nglobal\\n \\ndecarbonization\\n \\ntrends,\\n \\npositioning\\n \\nMalaysia\\n \\nto\\n \\ncapitalize\\n \\non\\n \\nemerging\\n \\ngreen-energy\\n \\nmarkets.\\n \\nThe  Future  Outlook  section  of  “The  Diesel  Dilemma”  projects  a  multi-phase  roadmap  for  \\nMalaysia’s\\n \\nbroader\\n \\nenergy-subsidy\\n \\nreforms\\n \\nand\\n \\nanticipates\\n \\nboth\\n \\nmacro-fiscal\\n \\nand\\n \\nsocio-environmental\\n \\ndividends.\\n \\nFirst,  in  late  2024 ,  the  government  plans  to  extend  the  targeted-subsidy  model  to  RON95  \\npetrol\\n,\\n \\nthereby\\n \\nbroadening\\n \\nthe\\n \\nefficiency\\n \\ngains\\n \\nbeyond\\n \\ndiesel.\\n \\nBy\\n \\napplying\\n \\nthe\\n \\nsame\\n \\nbeneficiary-criteria\\n \\nframework,\\n \\npolicymakers\\n \\nexpect\\n \\nto\\n \\nfurther\\n \\nreduce\\n \\nuntargeted\\n \\nfuel\\n \\noutlays\\n \\nand\\n \\nreinforce\\n \\nthe\\n \\nprinciple\\n \\nthat\\n \\nonly\\n \\nessential\\n \\nusers\\n \\nreceive\\n \\nsubsidized\\n \\npricing.\\n \\nThis\\n \\nphase\\n \\nalso\\n \\nserves\\n \\nas\\n \\na\\n \\ntestbed\\n \\nfor\\n \\nadministrative\\n \\nprocesses\\n \\nrefined\\n \\nduring\\n \\nthe\\n \\ndiesel\\n \\nrollout,\\n \\nhelping\\n \\nto\\n \\nstreamline\\n \\nthe\\n \\nMADANI\\n \\nportal’s\\n \\ncapacity\\n \\nand\\n \\noutreach\\n \\nmechanisms\\n \\nbefore\\n \\nscaling\\n \\nup.\\n \\nDuring  2025–2026 ,  Malaysia  aims  to  complete  full  subsidy  rationalization ,  phasing  out  \\nblanket\\n \\nsupport\\n \\nfor\\n \\nboth\\n \\ndiesel\\n \\nand\\n \\npetrol.\\n \\nAccording\\n \\nto\\n \\nofficial\\n \\nstatements,\\n \\nthis\\n \\ncomprehensive\\n \\nreform\\n \\nis\\n \\nprojected\\n \\nto\\n \\nlower\\n \\nthe\\n \\nfiscal\\n \\ndeficit\\n \\nfrom\\n \\n5.8\\n \\npercent\\n \\nto\\n \\n3.8\\n \\npercent\\n \\nof\\n \\nGDP\\n,\\n \\ncreating\\n \\ndurable\\n \\nbudgetary\\n \\nspace\\n \\nfor\\n \\npriority\\n \\nspending\\n \\n(Bernama,\\n \\n2025).\\n \\nSuch\\n \\na\\n \\nreduction\\n \\nis\\n \\nsignificant:\\n \\nIMF\\n \\nanalyses\\n \\nfind\\n \\nthat\\n \\na\\n \\none-percentage-point\\n \\nimprovement\\n \\nin\\n \\nthe\\n \\nprimary\\n \\nfiscal\\n \\nbalance\\n \\ncan,\\n \\nover\\n \\ntime,\\n \\nlower\\n \\nsovereign\\n \\nborrowing\\n \\ncosts\\n \\nand\\n \\nbolster\\n \\ninvestor\\n \\nconfidence\\n \\n(IMF,\\n \\n2019).\\n \\nConcurrently,  the  roadmap  embeds  renewable-energy  incentives —including  consumer  \\nrebates\\n \\nfor\\n \\nrooftop\\n \\nsolar\\n \\ninstallations\\n \\nand\\n \\npilot\\n \\nbiofuel-blending\\n \\nprogrammes—to\\n \\ncatalyze\\n \\nprivate\\n \\ninvestment\\n \\nin\\n \\nclean\\n \\ntechnologies\\n \\n(IEA,\\n \\n2023).\\n \\nBy\\n \\ncoupling\\n \\nsubsidy\\n \\nrationalization\\n \\nwith\\n \\ngreen-energy\\n \\nsupport,\\n \\nMalaysia\\n \\naligns\\n \\nits\\n \\nfiscal\\n \\nreform\\n \\nwith\\n \\nclimate-mitigation\\n \\nobjectives,'),\n",
       " Document(metadata={'producer': 'Skia/PDF m137 Google Docs Renderer', 'creator': 'PyPDF', 'creationdate': '', 'title': 'Website Report V1', 'source': 'Website_Report_V1.pdf', 'total_pages': 20, 'page': 9, 'page_label': '10'}, page_content='positioning  itself  to  participate  in  emerging  carbon-market  mechanisms  and  attract  \\ninternational\\n \\nclimate\\n \\nfinance.\\n \\nSocio-economically,  the  diverted  fiscal  resources  are  slated  to  finance  human-capital  and  \\ninfrastructure\\n \\npriorities—healthcare,\\n \\neducation,\\n \\nand\\n \\ntransport\\n \\nnetworks—thereby\\n \\namplifying\\n \\nlong-term\\n \\ngrowth\\n \\npotential\\n \\nand\\n \\nreducing\\n \\ninequality\\n \\n(World\\n \\nBank,\\n \\n2020).\\n \\nEnvironmentally,\\n \\nreduced\\n \\nfossil-fuel\\n \\nsubsidies\\n \\nare\\n \\nexpected\\n \\nto\\n \\ntemper\\n \\nconsumption\\n \\ngrowth,\\n \\nlower\\n \\ngreenhouse-gas\\n \\nemissions,\\n \\nand\\n \\nencourage\\n \\nmore\\n \\nefficient\\n \\nenergy\\n \\nuse,\\n \\nin\\n \\nline\\n \\nwith\\n \\nMalaysia’s\\n \\nNational\\n \\nEnergy\\n \\nTransition\\n \\nRoadmap.\\n \\nHowever,  realizing  these  outlooks  hinges  on  managing  transitional  risks:  sustaining  political  \\ncommitment\\n \\nthrough\\n \\nsubsequent\\n \\nadministrations,\\n \\nmitigating\\n \\npublic\\n \\nresistance\\n \\nto\\n \\nhigher\\n \\nfuel\\n \\nprices,\\n \\nand\\n \\nensuring\\n \\nequitable\\n \\naccess\\n \\nto\\n \\nrenewable-energy\\n \\nprogrammes.\\n \\nTransparent\\n \\nmonitoring—via\\n \\nannual\\n \\nFederal\\n \\nBudget\\n \\nreports\\n \\nand\\n \\npublic\\n \\ndashboards—will\\n \\nbe\\n \\ncrucial\\n \\nto\\n \\nmaintaining\\n \\naccountability\\n \\nand\\n \\npublic\\n \\ntrust\\n \\nthroughout\\n \\nthis\\n \\nmulti-year\\n \\nreform\\n \\njourney\\n \\n(Ministry\\n \\nof\\n \\nFinance\\n \\nMalaysia,\\n \\n2023).\\n \\nOver  the  longer  term,  the  diesel-subsidy  reform  is  expected  to  yield  multifaceted  benefits  \\nacross\\n \\nfiscal,\\n \\nsocio-economic,\\n \\nand\\n \\nenvironmental\\n \\ndimensions:\\n \\n1.  Enhanced  Fiscal  Sustainability  and  Debt  Reduction  \\nBy\\n \\npermanently\\n \\nreducing\\n \\nuntargeted\\n \\nfuel\\n \\noutlays,\\n \\nthe\\n \\ngovernment\\n \\npreserves\\n \\nrecurring\\n \\nbudgetary\\n \\nspace,\\n \\nmaking\\n \\nfiscal\\n \\nbalances\\n \\nmore\\n \\nresilient\\n \\nto\\n \\ncommodity-price\\n \\nshocks.\\n \\nIMF\\n \\nanalyses\\n \\nshow\\n \\nthat\\n \\nstructural\\n \\nreductions\\n \\nin\\n \\nsubsidy\\n \\nburdens\\n \\ncan\\n \\nimprove\\n \\nthe\\n \\nprimary\\n \\nbalance\\n \\nby\\n \\n0.5–1.0\\n \\npercent\\n \\nof\\n \\nGDP\\n \\nannually,\\n \\nwhich\\n \\nover\\n \\na\\n \\nfive-year\\n \\nhorizon\\n \\ncan\\n \\nlower\\n \\npublic\\n \\ndebt-to-GDP\\n \\nratios\\n \\nby\\n \\nseveral\\n \\npercentage\\n \\npoints\\n \\nand\\n \\nreduce\\n \\nsovereign\\n \\nborrowing\\n \\ncosts\\n \\nby\\n \\nencouraging\\n \\nmore\\n \\nfavorable\\n \\ncredit-rating\\n \\nassessments\\n \\n(IMF,\\n \\n2019;\\n \\nCoady\\n \\net\\n \\nal.,\\n \\n2019).\\n \\nThis\\n \\nlasting\\n \\nimprovement\\n \\nin\\n \\ndebt\\n \\nmetrics\\n \\nenhances\\n \\nMalaysia’s\\n \\nmacroeconomic\\n \\nstability\\n \\nand\\n \\nits\\n \\ncapacity\\n \\nto\\n \\nrespond\\n \\nto\\n \\nfuture\\n \\ncrises\\n \\nwithout\\n \\nresorting\\n \\nto\\n \\nabrupt\\n \\nausterity\\n \\nmeasures.\\n \\n2.  Accelerated  Human-Capital  Development  \\nSustained\\n \\nreallocation\\n \\nof\\n \\nsavings\\n \\ninto\\n \\nhealth\\n \\nand\\n \\neducation\\n \\nunderpins\\n \\nlong-run\\n \\nproductivity\\n \\ngains.\\n \\nWorld\\n \\nBank\\n \\nresearch\\n \\nfinds\\n \\nthat\\n \\nevery\\n \\nadditional\\n \\nringgit\\n \\ninvested\\n \\nin\\n \\nprimary\\n \\nand\\n \\nsecondary\\n \\neducation\\n \\ncan\\n \\nyield\\n \\nreturns\\n \\nof\\n \\nup\\n \\nto\\n \\n10\\n \\npercent\\n \\nper\\n \\nannum\\n \\nthrough\\n \\nhigher\\n \\nlabour-force\\n \\nparticipation\\n \\nand\\n \\nimproved\\n \\nskill\\n \\nlevels\\n \\n(Hanushek\\n \\n&\\n \\nWoessmann,\\n \\n2020).\\n \\nSimilarly,\\n \\nconsistent\\n \\nfunding\\n \\nfor\\n \\npreventive\\n \\nhealthcare\\n \\nreduces\\n \\nthe\\n \\nprevalence\\n \\nof\\n \\nchronic\\n \\ndiseases,\\n \\nlowering\\n \\nlong-term\\n \\ntreatment\\n \\ncosts\\n \\nand\\n \\npreserving\\n \\nworking-age\\n \\npopulation\\n \\nhealth—thereby\\n \\nraising\\n \\naggregate\\n \\noutput\\n \\nand\\n \\nreducing\\n \\nwelfare-state\\n \\nburdens\\n \\nover\\n \\ndecades\\n \\n(WHO,\\n \\n2023).\\n \\n3.  Environmental  and  Energy-Efficiency  Gains  \\nPhasing\\n \\nout\\n \\nblanket\\n \\ndiesel\\n \\nsubsidies\\n \\nincentivizes\\n \\nboth\\n \\nsuppliers\\n \\nand\\n \\nconsumers\\n \\nto\\n \\nadopt\\n \\ncleaner\\n \\nand\\n \\nmore\\n \\nefficient\\n \\ntechnologies.\\n \\nStudies\\n \\nby\\n \\nthe\\n \\nInternational\\n \\nEnergy\\n \\nAgency\\n \\nindicate\\n \\nthat\\n \\nsubsidy\\n \\nreforms,\\n \\nwhen\\n \\npaired\\n \\nwith\\n \\nrenewable-energy\\n \\nincentives,\\n \\ncan\\n \\naccelerate\\n \\nthe\\n \\ndeployment\\n \\nof\\n \\nlow-carbon\\n \\nsolutions—such\\n \\nas\\n \\nsolar\\n \\nPV\\n \\nand\\n \\nbiofuels—by\\n \\n20–30\\n \\npercent\\n \\nfaster\\n \\nthan\\n \\nin\\n \\nstatus-quo\\n \\nscenarios\\n \\n(IEA,\\n \\n2023).\\n \\nOver\\n \\nthe\\n \\nlong\\n \\nterm,\\n \\nthis\\n \\ntransition\\n \\ncontributes\\n \\nto\\n \\nlower\\n \\ngreenhouse-gas\\n \\nemissions,\\n \\nimproved\\n \\nair\\n \\nquality,\\n \\nand\\n \\nthe\\n \\ndevelopment\\n \\nof\\n \\ndomestic\\n \\nclean-tech\\n \\nindustries,\\n \\nhelping\\n \\nMalaysia\\n \\nmeet\\n \\nits\\n \\nParis\\n \\nAgreement\\n \\ncommitments\\n \\nand\\n \\nattract\\n \\ngreen-finance\\n \\ninflows.'),\n",
       " Document(metadata={'producer': 'Skia/PDF m137 Google Docs Renderer', 'creator': 'PyPDF', 'creationdate': '', 'title': 'Website Report V1', 'source': 'Website_Report_V1.pdf', 'total_pages': 20, 'page': 10, 'page_label': '11'}, page_content='4.  Strengthened  Institutional  Capacity  and  Transparency  \\nImplementing\\n \\na\\n \\ntargeted-subsidy\\n \\nsystem\\n \\nrequires\\n \\nrobust\\n \\nbeneficiary\\n \\nregistries,\\n \\ndigital\\n \\npayment\\n \\nplatforms,\\n \\nand\\n \\ninter-agency\\n \\ndata\\n \\nsharing.\\n \\nThe\\n \\ninvestments\\n \\nin\\n \\nthese\\n \\nsystems\\n \\nproduce\\n \\ndurable\\n \\nenhancements\\n \\nin\\n \\npublic-sector\\n \\nefficiency,\\n \\ndata\\n \\ngovernance,\\n \\nand\\n \\nservice\\n \\ndelivery.\\n \\nLessons\\n \\nfrom\\n \\nother\\n \\neconomies\\n \\nshow\\n \\nthat\\n \\nonce\\n \\nestablished,\\n \\nsuch\\n \\nplatforms\\n \\ncan\\n \\nbe\\n \\nrepurposed\\n \\nfor\\n \\nbroader\\n \\nsocial-welfare\\n \\nprogrammes—enabling\\n \\nrapid,\\n \\nevidence-based\\n \\npolicy\\n \\nresponses\\n \\nin\\n \\nareas\\n \\nranging\\n \\nfrom\\n \\ndisaster\\n \\nrelief\\n \\nto\\n \\npension\\n \\ndistribution\\n \\n(Open\\n \\nGovernment\\n \\nPartnership,\\n \\n2020).\\n \\n \\nLinks:  \\nBernama.  (2025,  April  24).  Malaysia’s  great  shift:  Navigating  the  high  stakes  of  targeted  subsidies.  Bernama .  Retrieved  from  https://www.bernama.com/en/news.php?id=2416103  \\nDepartment  of  Statistics  Malaysia.  (2023).  Road  vehicle  statistics .  Retrieved  from https://www.dosm.gov.my \\nInternational  Energy  Agency.  (2021).  Global  energy  review  2021 .  Retrieved  from  https://www.iea.org/reports/global-energy-review-2021  \\nInternational  Monetary  Fund.  (2019).  Making  reform  happen:  Lessons  from  countries  with  strong  fiscal  consolidation .  Retrieved  from https://www.imf.org \\nMinistry  of  Finance  Malaysia.  (2024,  June  9).  Government  implements  targeted  diesel  \\nsubsidy\\n \\nfor\\n \\nPeninsular\\n \\nMalaysia\\n \\neffective\\n \\n10\\n \\nJune\\n \\n2024\\n \\n[Press\\n \\nrelease].\\n \\nRetrieved\\n \\nfrom\\n https://www.mof.gov.my/portal/en/news/press-release/government-implements-targeted-diesel-subsidy-for-peninsular-malaysia-effective-10-june-2024  \\nOpen  Government  Partnership.  (2020).  Transparency  and  accountability .  Retrieved  from https://www.opengovpartnership.org \\nWorld  Bank.  (2020).  Fiscal  policy  for  shared  prosperity .  Retrieved  from https://www.worldbank.org/en/publication/fiscal-policy-shared-prosperity \\nAsian  Development  Bank.  (2021).  Logistics  performance  and  infrastructure  in  Asia  and  the  Pacific .  Retrieved  from  https://www.adb.org/publications/logistics-performance-infrastructure  \\nHanushek,  E.  A.,  &  Woessmann,  L.  (2020).  The  economic  impacts  of  learning  losses .  OECD  \\nPublishing.\\n \\nInternational  Energy  Agency.  (2023).  Malaysia:  Net  zero  roadmap  for  energy  sector .  Retrieved  from  https://www.iea.org/reports/malaysia-net-zero-roadmap-for-energy-sector  \\nInternational  Monetary  Fund.  (2019).  Making  reform  happen:  Lessons  from  countries  with  strong  fiscal  consolidation .  Retrieved  from https://www.imf.org \\nMinistry  of  Finance  Malaysia.  (2023).  Budget  2024  highlights .  Retrieved  from https://www.mof.gov.my'),\n",
       " Document(metadata={'producer': 'Skia/PDF m137 Google Docs Renderer', 'creator': 'PyPDF', 'creationdate': '', 'title': 'Website Report V1', 'source': 'Website_Report_V1.pdf', 'total_pages': 20, 'page': 11, 'page_label': '12'}, page_content='Reuters.  (2024,  May  15).  Malaysia’s  diesel  subsidy  reform  to  save  billions  annually—prime  minister.  Reuters .  Retrieved  from https://www.reuters.com \\nWorld  Health  Organization.  (2023).  Malaysia  country  health  profile .  Retrieved  from https://www.who.int/countries/mys/health-profile \\nCoady,  D.,  Parry,  I.,  Sears,  L.,  &  Shang,  B.  (2019).  Global  fossil  fuel  subsidies  remain  large:  \\nAn\\n \\nupdate\\n \\nbased\\n \\non\\n \\ncountry-level\\n \\nestimates\\n.\\n \\nInternational\\n \\nMonetary\\n \\nFund.\\n \\nRetrieved\\n \\nfrom\\n https://www.imf.org/en/Publications/WP/Issues/2019/10/02/Global-Fossil-Fuel-Subsidies-Remain-Large-An-Update-Based-on-Country-Level-Estimates-48629  \\nFuel  Data  Dashboard  Analysis  \\nRON95  Quarterly  Average  Trend  (Line  Chart)  \\n●  X-Axis  (Time):  Marks  each  quarter  from  Q1  2019  through  Q2  2025.  \\n ●  Y-Axis  (Price  in  RM/L):  Shows  the  average  retail  price  of  RON95  per  litre,  plotted  to  \\ntwo\\n \\ndecimal\\n \\nplaces.\\n \\n ●  Shaded  Area  &  Dots:  Each  dot  is  the  computed  quarterly  average;  the  shaded  fill  \\nhighlights\\n \\nthe\\n \\ntrend\\n \\nbetween\\n \\npoints.\\n \\n \\nKey  Features  &  What  They  Mean  \\n1.  Flat  Period  (Q1  2019–Q1  2020):  Prices  hover  around  RM  2.00–2.05  /L,  indicating  a  \\nstable\\n \\nmarket\\n \\nbefore\\n \\nmajor\\n \\ndisruptions.\\n \\n 2.  Sharp  Dip  (Q2  2020):  A  plunge  to  roughly  RM  1.40  /L  corresponds  with  global  \\nlockdowns\\n \\nand\\n \\ncollapsed\\n \\ndemand,\\n \\nshowing\\n \\nRON95’s\\n \\nsensitivity\\n \\nto\\n \\ninternational\\n \\ncrude\\n‐\\nprice\\n \\nswings.\\n \\n 3.  Recovery  Phase  (Q3  2020–Q4  2021):  Gradual  rebound  back  toward  RM  2.00/L  as  \\nmobility\\n \\nresumed—demonstrating\\n \\nthe\\n \\nmarket’s\\n \\nreturn\\n \\nto\\n \\npre\\n‐\\npandemic\\n \\nconditions.\\n \\n 4.  Post-Recovery  Stability  (Q1  2022–Q2  2025):  A  relatively  narrow  band  (~RM  \\n2.00–2.10\\n \\n/L)\\n \\nsuggests\\n \\nthat,\\n \\ndespite\\n \\nongoing\\n \\nglobal\\n \\nvolatility,\\n \\ndomestic\\n \\nRON95\\n \\npricing\\n \\nwas\\n \\nmanaged\\n \\nto\\n \\nremain\\n \\npredictable\\n \\nover\\n \\nthis\\n \\nperiod.\\n \\nRON97  Quarterly  Average  Trend  \\n1.  Axes  &  Controls  \\n●  X-Axis  (Time):  Marks  each  quarter  from  Q1  2019  through  Q2  2025 .  \\n ●  Y-Axis  (Price  in  RM/L):  Plots  the  average  retail  price  per  litre  of  RON97.'),\n",
       " Document(metadata={'producer': 'Skia/PDF m137 Google Docs Renderer', 'creator': 'PyPDF', 'creationdate': '', 'title': 'Website Report V1', 'source': 'Website_Report_V1.pdf', 'total_pages': 20, 'page': 12, 'page_label': '13'}, page_content='●  Chart  Type  Toggle:  You  can  switch  between  this  Line  view  (with  shaded  area)  and  a  \\nBar\\n \\nview\\n \\nof\\n \\nthe\\n \\nsame\\n \\ndata.\\n \\n \\n2.  Key  Phases  &  What  They  Indicate  \\n●  Stable  Pre-Pandemic  (Q1  2019–Q1  2020):  \\n ○  Prices  hover  between  RM  2.40  and  RM  2.60  per  litre.  \\n ○  Reflects  normal  market  adjustments  under  Malaysia’s  managed ‐ price  regime.  \\n ●  Pandemic  Demand  Shock  (Q2  2020):  \\n ○  A  sharp  dip  to  around  RM  1.50 /L  in  Q2  2020  tracks  global  lockdowns  and  \\ncollapsing\\n \\nfuel\\n \\ndemand.\\n \\n ○  RON97  is  more  sensitive  to  crude ‐ price  swings,  so  the  drop  here  is  deeper  \\nthan\\n \\nfor\\n \\nsubsidized\\n \\ndiesel.\\n \\n ●  Rapid  Recovery  &  Surge  (Q3  2020–Q3  2022):  \\n ○  Rebound  begins  in  Q3  2020,  returning  above  RM  2.00 /L  by  Q4  2020.  \\n ○  Prices  then  accelerate,  peaking  around  RM  4.30–4.40 /L  in  Q2–Q3  \\n2022\\n—driven\\n \\nby\\n \\nglobal\\n \\nsupply\\n \\nconstraints\\n \\n(e.g.,\\n \\nOPEC+\\n \\ncuts,\\n \\npost-pandemic\\n \\ndemand\\n \\nrecovery,\\n \\nand\\n \\nthe\\n \\nUkraine\\n \\nconflict).\\n \\n ●  Moderation  &  New  Equilibrium  (Q4  2022–Q2  2025):  \\n ○  After  the  mid-2022  peak,  RON97  falls  back  to  approximately  RM  3.30–3.40 /L  \\nby\\n \\nQ1\\n \\n2023.\\n \\n ○  From  2023  onward,  the  series  settles  into  a  narrower  band  (~RM  3.30–3.50),  \\nreflecting\\n \\nboth\\n \\nMalaysia’s\\n \\nmanaged\\n‐\\nprice\\n \\ninterventions\\n \\nand\\n \\nbroader\\n \\nmarket\\n \\nstabilization.\\n \\n \\n3.  Why  This  Matters  \\n●  Volatility  Profiling:  RON97’s  larger  swings  (vs.  diesel)  highlight  its  exposure  to  \\nglobal\\n \\noil\\n‐\\nprice\\n \\nvolatility—an\\n \\nimportant\\n \\nsignal\\n \\nfor\\n \\npolicymakers\\n \\nconsidering\\n \\nfuture\\n \\nsubsidy\\n \\nor\\n \\nprice-management\\n \\nmeasures.\\n \\n ●  Policy  Timing  Signals:  The  timing  of  the  surge  (mid-2021  through  mid-2022)  aligns  \\nwith\\n \\nmajor\\n \\ninternational\\n \\nevents\\n \\n(post-COVID\\n \\nrebound,\\n \\nsupply\\n \\nshocks),\\n \\nindicating\\n \\nthat\\n \\ndomestic\\n \\nprice\\n‐\\ncontrol\\n \\nmechanisms\\n \\npartially\\n \\nbuffer\\n \\nbut\\n \\ncannot\\n \\nfully\\n \\ninsulate'),\n",
       " Document(metadata={'producer': 'Skia/PDF m137 Google Docs Renderer', 'creator': 'PyPDF', 'creationdate': '', 'title': 'Website Report V1', 'source': 'Website_Report_V1.pdf', 'total_pages': 20, 'page': 13, 'page_label': '14'}, page_content='consumers  from  global  trends.  \\n ●  Budget  &  Subsidy  Implications:  Understanding  RON97’s  trajectory  helps  the  \\ngovernment\\n \\ncalibrate\\n \\nany\\n \\npotential\\n \\npetrol-subsidy\\n \\nadjustments\\n \\n(e.g.,\\n \\nextending\\n \\ntargeted\\n \\nmodels\\n \\nfrom\\n \\ndiesel\\n \\nto\\n \\nRON95/RON97\\n \\nin\\n \\nlate\\n \\n2024).\\n \\nDiesel  Quarterly  Average  Trend  (Q1  2019–Q2  2025)  \\nAxes  &  Controls  \\n●  X-Axis  (Time):  Each  quarter  from  Q1  2019  through  Q2  2025.  \\n ●  Y-Axis  (Price  in  RM/L):  The  average  retail  price  per  litre  of  diesel  in  Peninsular  \\nMalaysia,\\n \\nplotted\\n \\nto\\n \\ntwo\\n \\ndecimal\\n \\nplaces.\\n \\n ●  Dropdowns:  \\n ○  Year:  “All  Years”  shows  every  quarter.  \\n ○  Fuel  Type:  “Diesel”  isolates  the  grey  diesel  series.  \\n ●  Chart  Type  Toggle:  Switch  between  this  Line  view  (with  shaded  area)  and  a  Bar  \\nview.\\n \\n \\n1.  Pre-Pandemic  Stability  (Q1  2019–Q1  2020)  \\n●  Price  Range:  Approximately  RM  2.15–2.17/L .  \\n ●  Meaning:  Reflects  Malaysia’s  blanket  diesel  subsidy,  keeping  prices  flat  despite  \\nmodest\\n \\nglobal\\n \\noil-price\\n \\nswings.\\n \\n \\n2.  COVID-19  Demand  Shock  (Q2  2020)  \\n●  Sharp  Dip  to  ~RM  1.45/L:  Diesel  prices  fall  by  ~33%.  \\n ●  Cause:  National  lockdowns  and  collapsed  transport  demand  led  the  government  to  \\npass\\n \\nthrough\\n \\nlower\\n \\nwholesale\\n \\ncosts\\n \\nto\\n \\nconsumers\\n \\neven\\n \\nunder\\n \\nsubsidy\\n \\n.\\n \\n ●  Implication:  Indicates  that  extreme  market  shocks  can  penetrate  subsidy  shields,  \\nprompting\\n \\ntemporary\\n \\nprice\\n \\npassthroughs.\\n \\n \\n3.  Recovery  &  Re-establishment  of  Subsidy  (Q3  2020–Q4  2023)  \\n●  Rebound  to  ~RM  2.15/L  by  Q1  2021:  As  mobility  resumed,  prices  returned  to  the  \\npre-COVID\\n \\nsubsidy\\n \\nlevel.'),\n",
       " Document(metadata={'producer': 'Skia/PDF m137 Google Docs Renderer', 'creator': 'PyPDF', 'creationdate': '', 'title': 'Website Report V1', 'source': 'Website_Report_V1.pdf', 'total_pages': 20, 'page': 14, 'page_label': '15'}, page_content='●  Extended  Plateau:  From  Q1  2021  through  Q4  2023,  diesel  remains  tightly  bounded  \\naround\\n \\nRM\\n \\n2.15/L.\\n \\n ●  Meaning:  The  government  re-imposed  full  subsidy  control  once  market  conditions  \\nnormalized,\\n \\nprioritizing\\n \\nprice\\n \\nstability.\\n \\n \\n4.  Subsidy  Reform  “Step”  (Q2  2024)  \\n●  Initial  Rise  to  ~RM  2.50/L,  then  ~RM  3.20/L  (Q3  2024):  Marks  the  transition  to  a  \\ntargeted-subsidy\\n \\nmodel\\n \\n(MADANI\\n \\nportal)\\n \\non\\n \\n10\\n \\nJune\\n \\n2024\\n \\n;\\n \\nprices\\n \\nfor\\n \\nnon-beneficiaries\\n \\nrealign\\n \\ncloser\\n \\nto\\n \\nmarket\\n \\nlevels.\\n \\n ●  Implication:  The  pronounced  vertical  “step”  visually  encodes  the  policy  shift,  making  \\nclear\\n \\nthat\\n \\nblanket\\n \\nsubsidies\\n \\nended\\n \\nfor\\n \\nmost\\n \\nusers.\\n \\n \\n5.  Post-Reform  Regulation  (Q4  2024–Q2  2025)  \\n●  Moderation  to  RM  2.95–3.05/L:  After  the  spike,  diesel  prices  settle  into  a  narrower  \\nband.\\n \\n ●  Meaning:  Minor  quarterly  tweaks  reflect  distribution-cost  updates,  but  the  elevated  \\nprice\\n \\nfloor\\n \\nremains,\\n \\nindicating\\n \\nthe\\n \\npermanence\\n \\nof\\n \\ntargeted\\n \\nsupport.\\n \\n \\nWhy  It  Matters  \\n●  Policy  Impact  Visualization:  The  clear  “flat  →  dip  →  flat  →  step  →  plateau”  \\nsequence\\n \\ncommunicates\\n \\nboth\\n \\nsubsidy\\n \\ndesign\\n \\nand\\n \\nreform\\n \\neffects\\n \\nat\\n \\na\\n \\nglance.\\n \\n ●  Budgetary  &  Behavioural  Signals:  The  reform  step  signals  to  users  and  \\nbusinesses\\n \\nthat\\n \\ndiesel\\n \\nwill\\n \\nno\\n \\nlonger\\n \\nbe\\n \\nfully\\n \\nsubsidized—encouraging\\n \\nfuel-efficient\\n \\npractices\\n \\nand\\n \\nhelping\\n \\ncurb\\n \\nsmuggling\\n \\nincentives.\\n \\n ●  Comparative  Context:  When  juxtaposed  with  RON95/RON97  trends,  this  chart  \\nreveals\\n \\nhow\\n \\nsubsidized\\n \\nversus\\n \\nmarket-priced\\n \\nfuels\\n \\nrespond\\n \\ndifferently\\n \\nto\\n \\nglobal\\n \\nshocks\\n \\nand\\n \\ndomestic\\n \\npolicy\\n \\nchanges.\\n \\nDiesel  East  Quarterly  Average  Trend  \\nAxes  &  Controls  \\n●  X-Axis  (Time):  Quarterly  points  from  Q1  2019  to  Q2  2025.  \\n ●  Y-Axis  (Price  in  RM/L):  The  average  retail  price  of  diesel  in  East  Malaysia  (Sabah  &  \\nSarawak).'),\n",
       " Document(metadata={'producer': 'Skia/PDF m137 Google Docs Renderer', 'creator': 'PyPDF', 'creationdate': '', 'title': 'Website Report V1', 'source': 'Website_Report_V1.pdf', 'total_pages': 20, 'page': 15, 'page_label': '16'}, page_content='●  Dropdowns:  \\n ○  Year:  “All  Years”  displays  every  quarter.  \\n ○  Fuel  Type:  “Diesel  East”  isolates  the  dark-blue  series.  \\n ●  Chart  Toggle:  Switch  between  Line  and  Bar  views  of  the  same  data.  \\n \\n1.  Pre-Pandemic  Equilibrium  (Q1  2019–Q1  2020)  \\n●  Price  Range:  Steady  around  RM  2.16–2.18/L .  \\n ●  Meaning:  Reflects  the  longstanding  East-Malaysia  subsidy  top-up  above  the  \\nPeninsular\\n \\nrate,\\n \\ncovering\\n \\nhigher\\n \\ndistribution\\n \\ncosts\\n \\nand\\n \\nlogistical\\n \\nchallenges\\n \\nin\\n \\nthese\\n \\nregions.\\n \\n \\n2.  COVID-19  Demand  Shock  (Q2  2020)  \\n●  Dip  to  ~RM  1.55/L:  Prices  fall  by  roughly  30  percent  in  Q2  2020.  \\n ●  Cause:  Nationwide  lockdowns  and  drastically  reduced  transport  demand  prompted  \\nthe\\n \\ngovernment\\n \\nto\\n \\npass\\n \\nthrough\\n \\nlower\\n \\nwholesale\\n \\ncosts\\n \\neven\\n \\nunder\\n \\nsubsidy\\n \\narrangements.\\n \\n ●  Implication:  Shows  that  extreme  external  shocks  can  temporarily  override  even  \\nregionally\\n \\nadjusted\\n \\nsubsidy\\n \\nbuffers.\\n \\n \\n3.  Recovery  &  Return  to  Subsidy  Support  (Q3  2020–Q4  2023)  \\n●  Rebound  to  ~RM  1.80/L  by  Q3  2020:  As  economic  activity  resumed,  prices  climbed  \\nback.\\n \\n ●  Full  Restoration  (~RM  2.18/L)  by  Q1  2021:  The  subsidy  top-up  was  fully  \\nre-imposed,\\n \\nreturning\\n \\nEast-Malaysia\\n \\ndiesel\\n \\nto\\n \\nits\\n \\npremium\\n \\nabove\\n \\nthe\\n \\nPeninsular\\n \\nbaseline.\\n \\n ●  Extended  Plateau:  From  Q1  2021  through  Q4  2023,  the  series  remains  almost  flat  \\nat\\n \\n~RM\\n \\n2.18/L.\\n \\n ●  Meaning:  The  government  re-established  full  support,  maintaining  the  higher  \\nEast-Malaysia\\n \\nrate\\n \\nconsistently.'),\n",
       " Document(metadata={'producer': 'Skia/PDF m137 Google Docs Renderer', 'creator': 'PyPDF', 'creationdate': '', 'title': 'Website Report V1', 'source': 'Website_Report_V1.pdf', 'total_pages': 20, 'page': 16, 'page_label': '17'}, page_content='4.  Post-Reform  Period  (Q2  2024–Q2  2025)  \\n●  No  Step  Increase:  Unlike  Peninsular  diesel,  the  Diesel  East  series  shows  no  \\nsignificant\\n \\njump\\n \\nin\\n \\nQ2\\n \\n2024.\\n \\nIt\\n \\nremains\\n \\nat\\n \\n~RM\\n \\n2.18/L\\n \\nthroughout\\n \\n2024–2025.\\n \\n ●  Implication:  The  targeted-subsidy  reform  of  June  2024  did  not  alter  East-Malaysia  \\ndiesel\\n \\nprices—confirming\\n \\nthat\\n \\nthese\\n \\nregions\\n \\nretained\\n \\ntheir\\n \\nexisting\\n \\nsubsidy\\n \\nlevel\\n \\nas\\n \\na\\n \\ndeliberate\\n \\nequity\\n \\nmeasure.\\n \\n ●  Minor  Oscillations:  Virtually  flat,  with  only  millesimal  quarterly  adjustments  reflecting  \\nroutine\\n \\ncost\\n \\nupdates.\\n \\n \\nWhy  It  Matters  \\n●  Equity  Across  Regions:  By  preserving  the  East-Malaysia  rate,  the  reform  \\nacknowledges\\n \\nhigher\\n \\nlogistical\\n \\ncosts\\n \\nand\\n \\nsocioeconomic\\n \\nneeds\\n \\nin\\n \\nSabah\\n \\n&\\n \\nSarawak.\\n \\n ●  Policy  Clarity:  The  absence  of  a  “step”  in  this  series  contrasts  with  the  Peninsular  \\njump,\\n \\nvisually\\n \\nconfirming\\n \\nthat\\n \\nonly\\n \\nPeninsular\\n \\nconsumers\\n \\nlost\\n \\nblanket\\n \\nsubsidy.\\n \\n ●  Fiscal  Targeting:  Maintaining  East-Malaysia  support  while  withdrawing  universal  \\nrelief\\n \\non\\n \\nthe\\n \\npeninsula\\n \\nreflects\\n \\na\\n \\nnuanced,\\n \\nregionally\\n \\ncalibrated\\n \\napproach\\n \\nto\\n \\nsubsidy\\n \\nrationalization.\\n \\nRegional  Diesel  Price  Comparison  (Bar  Chart)  \\n●  X-Axis  (Regions):  Lists  Peninsular  Malaysia,  Sabah  &  Sarawak,  Singapore,  \\nIndonesia,\\n \\nand\\n \\nThailand.\\n \\n ●  Y-Axis  (Price  in  RM/L):  Gives  the  average  diesel  price  per  litre  immediately  after  the  \\nJune\\n \\n2024\\n \\nsubsidy\\n \\nreform.\\n \\n ●  Bar  Heights:  Represent  the  implied  price  in  each  jurisdiction.  \\n \\nKey  Comparisons  &  Insights  \\n1.  Peninsular  Malaysia  (~RM  3.35/L):  Reflects  the  new  post-reform  diesel  rate  for  the  \\npeninsula—more\\n \\nthan\\n \\n50%\\n \\nhigher\\n \\nthan\\n \\nits\\n \\npre-June\\n \\n2024\\n \\nRM\\n \\n2.15/L\\n \\nlevel.\\n \\n 2.  Sabah  &  Sarawak  (~RM  2.15/L):  Diesel  price  remains  at  the  old  subsidized  rate,  \\nillustrating\\n \\na\\n \\ndeliberate\\n \\nintra-federal\\n \\nsubsidy\\n \\ncarve-out.\\n \\n 3.  Singapore  (~RM  8.80/L):  Shows  Singapore’s  heavily  taxed,  market-driven  diesel  \\nprice—over\\n \\ndouble\\n \\nPeninsular\\n \\nMalaysia’s—highlighting\\n \\nthe\\n \\nlarge\\n \\nregional\\n \\npremium.'),\n",
       " Document(metadata={'producer': 'Skia/PDF m137 Google Docs Renderer', 'creator': 'PyPDF', 'creationdate': '', 'title': 'Website Report V1', 'source': 'Website_Report_V1.pdf', 'total_pages': 20, 'page': 17, 'page_label': '18'}, page_content='4.  Indonesia  (~RM  4.24/L)  &  Thailand  (~RM  4.43/L):  Benchmark  neighbours  whose  \\nunsubsidized\\n \\nprices\\n \\nsat\\n \\nroughly\\n \\n25–30%\\n \\nabove\\n \\npost-reform\\n \\nPeninsular\\n \\nrates.\\n \\n \\nWhy  It  Matters  \\n●  The  bar  chart  makes  evident  the  post-reform  recalibration:  Peninsular  users  now  \\npay\\n \\nsubstantially\\n \\nmore,\\n \\nwhile\\n \\nEast\\n \\nMalaysians\\n \\nretain\\n \\nlower\\n \\nrates.\\n \\n ●  Comparing  with  neighbouring  countries  underscores  how  Malaysia’s  \\nmarket-aligned\\n \\nprice\\n \\nstill\\n \\nsubsidizes\\n \\ndomestic\\n \\nconsumers\\n \\nrelative\\n \\nto\\n \\nbroader\\n \\nASEAN\\n \\nlevels,\\n \\nbalancing\\n \\nfiscal\\n \\nrestraint\\n \\nwith\\n \\nsocial\\n \\nsupport.\\n \\n \\nVehicle  Types  Distribution  (2021–2025)  –  Bar  Chart  \\nWhat’s  plotted:  \\n●  X-Axis  (Fuel/Powertrain  Type):  Categories  of  vehicles  registered  from  2021  to  \\n2025:\\n \\nDiesel,\\n \\nElectric,\\n \\nGreen\\n \\nDiesel\\n \\n(biodiesel\\n \\nblends),\\n \\nHybrid\\n \\nDiesel,\\n \\nHybrid\\n \\nPetrol,\\n \\nand\\n \\nPetrol.\\n \\n ●  Y-Axis  (Number  of  Registered  Vehicles):  Total  registrations  across  the  five-year  \\nspan,\\n \\nin\\n \\nabsolute\\n \\ncounts.\\n \\n \\nKey  Takeaways:  \\n1.  Petrol  Dominance  (~2.7  million  vehicles):  \\n ○  Petrol-powered  vehicles  overwhelmingly  lead  the  market,  with  roughly  \\n2.5–3.0\\n \\nmillion\\n \\nregistrations.\\n \\n ○  Implication:  Despite  subsidy  changes  on  diesel,  consumer  preference  \\nremains\\n \\nheavily\\n \\npetrol-centric,\\n \\nreflecting\\n \\ninfrastructure,\\n \\nprice\\n \\nstability,\\n \\nand\\n \\nvehicle-availability\\n \\nfactors.\\n \\n 2.  Modest  “Green  Diesel”  Uptake  (~200,000  vehicles):  \\n ○  Biodiesel-compatible  vehicles  constitute  the  second-largest  non-petrol  \\nsegment.\\n \\n ○  Implication:  Some  fleet  operators  and  private  buyers  are  adopting  biodiesel  \\nblends—possibly\\n \\ndriven\\n \\nby\\n \\ncorporate\\n \\nsustainability\\n \\npolicies\\n \\nor\\n \\nincentives\\n \\nunder\\n \\nMalaysia’s\\n \\nB10/B20\\n \\nmandate.\\n \\n 3.  Hybrid  Petrol  &  Diesel  (tens  of  thousands):'),\n",
       " Document(metadata={'producer': 'Skia/PDF m137 Google Docs Renderer', 'creator': 'PyPDF', 'creationdate': '', 'title': 'Website Report V1', 'source': 'Website_Report_V1.pdf', 'total_pages': 20, 'page': 18, 'page_label': '19'}, page_content='○  Hybrid  Petrol  registrations  (~50,000)  exceed  Hybrid  Diesel  (~10,000).  \\n ○  Implication:  Hybridization  in  passenger  cars  is  gaining  ground,  though  more  \\nso\\n \\nin\\n \\npetrol\\n \\nplatforms\\n \\nthan\\n \\ndiesel,\\n \\nlikely\\n \\ndue\\n \\nto\\n \\nlower\\n \\nupfront\\n \\ncosts\\n \\nand\\n \\nbroader\\n \\nmodel\\n \\navailability.\\n \\n 4.  Electric  Vehicles  (<20,000)  &  Pure  Diesel  (~negligible):  \\n ○  Fully  electric  vehicles  remain  nascent,  with  EVs  under  20,000  registrations  \\nsince\\n \\n2021.\\n \\n ○  Standalone  pure-diesel  vehicle  registrations  (excluding  hybrids  or  \\ngreen-diesel\\n \\nmodels)\\n \\nare\\n \\nminimal\\n \\nin\\n \\ncomparison,\\n \\nindicating\\n \\nthe\\n \\ndiesel\\n \\nfleet\\n \\nis\\n \\ndominated\\n \\nby\\n \\ncommercial/industrial\\n \\nregistrations\\n \\ncaptured\\n \\nseparately.\\n \\n \\nTotal  Registered  Diesel  Vehicles  (2021–2025)  –  Line  Chart  \\nWhat’s  plotted:  \\n●  X-Axis  (Year):  from  2021  through  2025 .  \\n ●  Y-Axis  (Number  of  Vehicles):  Total  count  of  diesel-fuelled  vehicles  registered  each  \\nyear.\\n \\n \\nObserved  Trend:  \\n1.  Growth  Phase  (2021  →  2022):  \\n ○  Registrations  climb  from  ~48,000  in  2021  to  ~65,000  in  2022—a  35%  \\nincrease\\n.\\n \\n ○  Drivers:  Possible  fleet  expansions  in  logistics,  agriculture,  and  commercial  \\ntransport\\n \\nbefore\\n \\nsubsidy\\n \\nreform.\\n \\n 2.  Plateau  &  Early  Decline  (2022  →  2024):  \\n ○  A  slight  dip  to  ~62,000  in  2023  and  further  to  ~55,000  in  2024.  \\n ○  Interpretation:  Beginning  of  rollover  effects  as  businesses  anticipate  higher  \\ndiesel\\n \\ncosts\\n \\npost-reform\\n \\n(June\\n \\n2024),\\n \\ntempering\\n \\nnew\\n \\nregistrations.\\n \\n 3.  Sharp  Drop  (2024  →  2025):  \\n ○  An  abrupt  fall  to  ~5,000  registrations  in  2025—over  a  90%  decrease  \\nyear-over-year.'),\n",
       " Document(metadata={'producer': 'Skia/PDF m137 Google Docs Renderer', 'creator': 'PyPDF', 'creationdate': '', 'title': 'Website Report V1', 'source': 'Website_Report_V1.pdf', 'total_pages': 20, 'page': 19, 'page_label': '20'}, page_content='○  Implication:  The  June  2024  subsidy  reform,  which  removed  universal  diesel  \\nrelief\\n \\nfor\\n \\nnon-eligible\\n \\nusers,\\n \\ncaused\\n \\na\\n \\nnear-complete\\n \\ncollapse\\n \\nin\\n \\nnew\\n \\ndiesel-vehicle\\n \\nuptake\\n \\nby\\n \\nmid-2024.\\n \\nThis\\n \\nsuggests\\n \\nthat\\n \\nprivate\\n \\nand\\n \\ncommercial\\n \\npurchasers\\n \\ndeferred\\n \\nor\\n \\ncancelled\\n \\ndiesel-vehicle\\n \\npurchases\\n \\nin\\n \\nthe\\n \\nface\\n \\nof\\n \\nhigher\\n \\noperating\\n \\ncosts.\\n \\n \\nWhy  These  Graphs  Matter  \\n●  The  Vehicle  Types  bar  chart  reveals  that  while  petrol  remains  dominant,  there  is  \\nmeasurable\\n \\ninterest\\n \\nin\\n \\nbiodiesel\\n \\nblends\\n \\nand\\n \\nhybrids—signals\\n \\nfor\\n \\npolicymakers\\n \\nand\\n \\nindustry\\n \\nto\\n \\nbolster\\n \\ninfrastructure\\n \\nand\\n \\nincentives\\n \\nfor\\n \\nlower-carbon\\n \\ntransport.\\n \\n ●  The  Diesel  Registrations  line  chart  starkly  illustrates  policy  impact:  by  drastically  \\nreducing\\n \\nthe\\n \\nfinancial\\n \\nattractiveness\\n \\nof\\n \\nnew\\n \\ndiesel\\n \\nvehicles,\\n \\nthe\\n \\ntargeted\\n \\nsubsidy\\n \\nremoval\\n \\nachieved\\n \\nits\\n \\nbehavioral\\n \\nobjective,\\n \\ncurbing\\n \\ndiesel-fleet\\n \\ngrowth\\n \\nand,\\n \\nby\\n \\nextension,\\n \\ndownstream\\n \\nfuel\\n \\nconsumption\\n \\nand\\n \\nfiscal\\n \\nburden.\\n \\n \\n \\n   Data  Source:  data.gov.my,  2017-2025  URL:  https://data.gov.my/data-catalogue/fuelprice')]"
      ]
     },
     "execution_count": 14,
     "metadata": {},
     "output_type": "execute_result"
    }
   ],
   "source": [
    "data"
   ]
  },
  {
   "cell_type": "markdown",
   "metadata": {},
   "source": [
    "## Split the Extracted Data into Text Chunks"
   ]
  },
  {
   "cell_type": "code",
   "execution_count": 9,
   "metadata": {},
   "outputs": [],
   "source": [
    "text_splitter = RecursiveCharacterTextSplitter(chunk_size=500, chunk_overlap=20)\n",
    "text_chunks = text_splitter.split_documents(data)"
   ]
  },
  {
   "cell_type": "code",
   "execution_count": 19,
   "metadata": {},
   "outputs": [
    {
     "name": "stdout",
     "output_type": "stream",
     "text": [
      "113\n"
     ]
    },
    {
     "data": {
      "text/plain": [
       "Document(metadata={'producer': 'Skia/PDF m137 Google Docs Renderer', 'creator': 'PyPDF', 'creationdate': '', 'title': 'Website Report V1', 'source': 'pdf_data\\\\Website_Report_V1.pdf', 'total_pages': 20, 'page': 0, 'page_label': '1'}, page_content='Landing  Page  Analysis  \\n1.  Header  &  Navigation  \\n●  Logo  &  Branding :  The  “MY  PolicyLens”  logo  in  the  top-left  immediately  identifies  the  \\nplatform.\\n \\nIt\\n \\nuses\\n \\nbold,\\n \\nuppercase\\n \\nlettering\\n \\nto\\n \\nconvey\\n \\nauthority\\n \\nand\\n \\ntrust.\\n \\n ●  Primary  Navigation :  Links  to  Home ,  Policy ,  and  an  AI  Chatbot  tool  sit  prominently  \\nacross\\n \\nthe\\n \\ntop,\\n \\nmaking\\n \\nessential\\n \\nfeatures\\n \\nreachable\\n \\nin\\n \\none\\n \\nclick.')"
      ]
     },
     "execution_count": 19,
     "metadata": {},
     "output_type": "execute_result"
    }
   ],
   "source": [
    "print(len(text_chunks))\n",
    "text_chunks[0]"
   ]
  },
  {
   "cell_type": "markdown",
   "metadata": {},
   "source": [
    "## Load OPENAI API"
   ]
  },
  {
   "cell_type": "code",
   "execution_count": null,
   "metadata": {},
   "outputs": [],
   "source": [
    "os.environ['OPENAI_API_KEY'] = "
   ]
  },
  {
   "cell_type": "markdown",
   "metadata": {},
   "source": [
    "## Download the Embeddings"
   ]
  },
  {
   "cell_type": "code",
   "execution_count": 16,
   "metadata": {},
   "outputs": [],
   "source": [
    "# Use a specific embedding model\n",
    "embeddings_model = OpenAIEmbeddings(model=\"text-embedding-3-small\")"
   ]
  },
  {
   "cell_type": "code",
   "execution_count": null,
   "metadata": {},
   "outputs": [
    {
     "name": "stdout",
     "output_type": "stream",
     "text": [
      "1536\n",
      "[0.0009549352689646184, 0.0018590498948469758, 0.0324464850127697, -0.013298600912094116, 0.039292510598897934]\n"
     ]
    }
   ],
   "source": [
    "text = \"LangChain is an AI framework for LLMs.\"\n",
    "vector = embeddings_model.embed_query(text)\n",
    "\n",
    "print(len(vector))\n",
    "print(vector[:5])  # Print first 5 values for readability\n"
   ]
  },
  {
   "cell_type": "markdown",
   "metadata": {},
   "source": [
    "## Initializing the Pinecone"
   ]
  },
  {
   "cell_type": "code",
   "execution_count": 17,
   "metadata": {},
   "outputs": [],
   "source": [
    "import pinecone\n",
    "\n",
    "os.environ['PINECONE_API_KEY'] = \"pcsk_7HmYTn_KS4n9fp4CzxTjTrKpYWaaBgHvP2JPRRx9fp5URALDkKuCC1yeZYhbZ557rEfjYT\"\n",
    "pc = pinecone.Pinecone(os.getenv('PINECONE_API_KEY'))\n",
    "index_name = \"fit5120-tm01\"\n",
    "index = pc.Index(index_name)"
   ]
  },
  {
   "cell_type": "markdown",
   "metadata": {},
   "source": [
    "## Create Embeddings for each of the Text Chunk"
   ]
  },
  {
   "cell_type": "code",
   "execution_count": 18,
   "metadata": {},
   "outputs": [],
   "source": [
    "# Pinecone.from_texts() vs Pinecone.from_documents()\n",
    "# .from_documents() stores meta data while .from_texts() does not\n",
    "\n",
    "docsearch = Pinecone.from_texts([t.page_content for t in text_chunks], embeddings_model, index_name=index_name)"
   ]
  },
  {
   "cell_type": "markdown",
   "metadata": {},
   "source": [
    "## If you already have an index, you can load it like this"
   ]
  },
  {
   "cell_type": "code",
   "execution_count": 20,
   "metadata": {},
   "outputs": [
    {
     "data": {
      "text/plain": [
       "<langchain_community.vectorstores.pinecone.Pinecone at 0x211027ec050>"
      ]
     },
     "execution_count": 20,
     "metadata": {},
     "output_type": "execute_result"
    }
   ],
   "source": [
    "docsearch = Pinecone.from_existing_index(index_name, embeddings_model)\n",
    "docsearch"
   ]
  },
  {
   "cell_type": "markdown",
   "metadata": {},
   "source": [
    "## Similarity Search"
   ]
  },
  {
   "cell_type": "code",
   "execution_count": 23,
   "metadata": {},
   "outputs": [],
   "source": [
    "query = \"How much is the diesel subisdy expenditure in 2024\"\n",
    "\n",
    "docs = docsearch.similarity_search(query, k=3)"
   ]
  },
  {
   "cell_type": "code",
   "execution_count": 24,
   "metadata": {},
   "outputs": [
    {
     "data": {
      "text/plain": [
       "[Document(metadata={}, page_content='understanding.\\n \\n \\nDiesel  Dilemma  Page  Analysis   \\nEscalation  of  Subsidy  Expenditure  \\nBetween\\n \\n2019\\n \\nand\\n \\n2023,\\n \\nMalaysia’s\\n \\ndiesel-subsidy\\n \\noutlay\\n \\nsoared\\n \\nfrom\\n \\nRM\\n \\n1.4\\n \\nbillion\\n \\nto\\n \\nRM\\n \\n14.3\\n \\nbillion—a\\n \\nmore\\n \\nthan\\n \\nten-fold\\n \\nincrease\\n \\n(Ministry\\n \\nof\\n \\nFinance\\n \\nMalaysia,\\n \\n2024).\\n \\nThis\\n \\n920\\n \\npercent\\n \\nrise\\n \\nplaced\\n \\nunsustainable\\n \\npressure\\n \\non\\n \\npublic\\n \\nfinances,\\n \\nconsuming\\n \\nan\\n \\never-larger\\n \\nshare\\n \\nof\\n \\nthe\\n \\nfederal\\n \\nbudget.\\n \\nAccording\\n \\nto'),\n",
       " Document(metadata={}, page_content='4.  Post-Reform  Period  (Q2  2024–Q2  2025)  \\n●  No  Step  Increase:  Unlike  Peninsular  diesel,  the  Diesel  East  series  shows  no  \\nsignificant\\n \\njump\\n \\nin\\n \\nQ2\\n \\n2024.\\n \\nIt\\n \\nremains\\n \\nat\\n \\n~RM\\n \\n2.18/L\\n \\nthroughout\\n \\n2024–2025.\\n \\n ●  Implication:  The  targeted-subsidy  reform  of  June  2024  did  not  alter  East-Malaysia  \\ndiesel\\n \\nprices—confirming\\n \\nthat\\n \\nthese\\n \\nregions\\n \\nretained\\n \\ntheir\\n \\nexisting\\n \\nsubsidy\\n \\nlevel\\n \\nas\\n \\na\\n \\ndeliberate\\n \\nequity\\n \\nmeasure.'),\n",
       " Document(metadata={}, page_content='consumers  from  global  trends.  \\n ●  Budget  &  Subsidy  Implications:  Understanding  RON97’s  trajectory  helps  the  \\ngovernment\\n \\ncalibrate\\n \\nany\\n \\npotential\\n \\npetrol-subsidy\\n \\nadjustments\\n \\n(e.g.,\\n \\nextending\\n \\ntargeted\\n \\nmodels\\n \\nfrom\\n \\ndiesel\\n \\nto\\n \\nRON95/RON97\\n \\nin\\n \\nlate\\n \\n2024).\\n \\nDiesel  Quarterly  Average  Trend  (Q1  2019–Q2  2025)  \\nAxes  &  Controls  \\n●  X-Axis  (Time):  Each  quarter  from  Q1  2019  through  Q2  2025.')]"
      ]
     },
     "execution_count": 24,
     "metadata": {},
     "output_type": "execute_result"
    }
   ],
   "source": [
    "docs"
   ]
  },
  {
   "cell_type": "markdown",
   "metadata": {},
   "source": [
    "## Creating a LLM Model Wrapper"
   ]
  },
  {
   "cell_type": "code",
   "execution_count": 25,
   "metadata": {},
   "outputs": [],
   "source": [
    "llm_gpt4 = ChatOpenAI(model=\"gpt-4.1-nano\") #gpt-4.1-mini\n",
    "\n",
    "qa = RetrievalQA.from_chain_type(llm=llm_gpt4, chain_type=\"stuff\", retriever=docsearch.as_retriever(search_kwargs={\"k\": 3}))"
   ]
  },
  {
   "cell_type": "markdown",
   "metadata": {},
   "source": [
    "## Q/A"
   ]
  },
  {
   "cell_type": "code",
   "execution_count": 26,
   "metadata": {},
   "outputs": [
    {
     "data": {
      "text/plain": [
       "{'query': 'How much is the diesel subisdy expenditure in 2024',\n",
       " 'result': 'The diesel subsidy expenditure in Malaysia in 2024 is not explicitly provided in the given data. However, it is stated that the expenditure soared from RM 1.4 billion in 2019 to RM 14.3 billion in 2023, representing a more than ten-fold increase. Since 2024 falls after 2023, the expenditure is likely still very high, but the exact figure for 2024 is not specified.'}"
      ]
     },
     "execution_count": 26,
     "metadata": {},
     "output_type": "execute_result"
    }
   ],
   "source": [
    "query = \"How much is the diesel subisdy expenditure in 2024\"\n",
    "qa.invoke(query)"
   ]
  },
  {
   "cell_type": "code",
   "execution_count": 27,
   "metadata": {},
   "outputs": [
    {
     "name": "stdout",
     "output_type": "stream",
     "text": [
      "Answer: The diesel subsidy expenditure in Malaysia in 2023 was RM 14.3 billion.\n",
      "Exiting\n"
     ]
    }
   ],
   "source": [
    "while True:\n",
    "  user_input = input(f\"Input Prompt: \")\n",
    "  if user_input == 'exit':\n",
    "    print('Exiting')\n",
    "    break\n",
    "  if user_input == '':\n",
    "    continue\n",
    "  result = qa.invoke({'query': user_input})\n",
    "  print(f\"Answer: {result['result']}\")\n",
    "     "
   ]
  }
 ],
 "metadata": {
  "kernelspec": {
   "display_name": "Deep_Learning_V2",
   "language": "python",
   "name": "python3"
  },
  "language_info": {
   "codemirror_mode": {
    "name": "ipython",
    "version": 3
   },
   "file_extension": ".py",
   "mimetype": "text/x-python",
   "name": "python",
   "nbconvert_exporter": "python",
   "pygments_lexer": "ipython3",
   "version": "3.12.4"
  }
 },
 "nbformat": 4,
 "nbformat_minor": 2
}
